{
 "cells": [
  {
   "cell_type": "markdown",
   "metadata": {
    "id": "byoJ-oy7pr4J"
   },
   "source": [
    "## **Создание классов**"
   ]
  },
  {
   "cell_type": "markdown",
   "metadata": {
    "id": "7IJMDt40tZo2"
   },
   "source": [
    "## Классы как пользовательский тип данных"
   ]
  },
  {
   "cell_type": "markdown",
   "metadata": {
    "id": "eX3Bo-ZTtZo3"
   },
   "source": [
    "В большинтсве ЯП любая переменная имеет какой-либо тип. Есть так называемые примитивные типы, которые изначально есть в языке.\n",
    "\n",
    "Для примера создадим несколько переменных и узнаем их тип:"
   ]
  },
  {
   "cell_type": "code",
   "execution_count": 59,
   "metadata": {
    "colab": {
     "base_uri": "https://localhost:8080/"
    },
    "id": "9jF5B1VLtZo4",
    "outputId": "b0e7c613-86d7-45fe-feb9-54d9d8dffd64"
   },
   "outputs": [
    {
     "data": {
      "text/plain": [
       "int"
      ]
     },
     "execution_count": 59,
     "metadata": {},
     "output_type": "execute_result"
    }
   ],
   "source": [
    "a = 1\n",
    "type(a)"
   ]
  },
  {
   "cell_type": "code",
   "execution_count": 60,
   "metadata": {
    "colab": {
     "base_uri": "https://localhost:8080/"
    },
    "id": "A8xXbs0_tZo7",
    "outputId": "1508b847-ee04-43c1-ef68-8a657e309ac1"
   },
   "outputs": [
    {
     "data": {
      "text/plain": [
       "str"
      ]
     },
     "execution_count": 60,
     "metadata": {},
     "output_type": "execute_result"
    }
   ],
   "source": [
    "b = 'Hello'\n",
    "type(b)"
   ]
  },
  {
   "cell_type": "markdown",
   "metadata": {
    "id": "NAsjvZjTtZo8"
   },
   "source": [
    "Обычно примитивными типами являются целые и не целые числа, логический значения и символы (строки). Но многие языки поддерживают возможность определять собсвенные типы, основываясь на примитивных типах. Зачем это нужно?\n",
    "\n",
    "Рассмотрим такой пример, пусть у нас есть двумерный вектор, он описывается двумя координатами x и y."
   ]
  },
  {
   "cell_type": "code",
   "execution_count": 61,
   "metadata": {
    "id": "GIqHHI4DtZo9"
   },
   "outputs": [],
   "source": [
    "# Например так\n",
    "x = 5\n",
    "y = 10"
   ]
  },
  {
   "cell_type": "markdown",
   "metadata": {
    "id": "dixWhx-ZtZo-"
   },
   "source": [
    "Но это не очень удобно, нам нужно держать в голове что для х является парной переменная y"
   ]
  },
  {
   "cell_type": "code",
   "execution_count": 62,
   "metadata": {
    "colab": {
     "base_uri": "https://localhost:8080/"
    },
    "id": "HfRJ1L6jtZo-",
    "outputId": "698daa4a-83df-4a40-9aa4-d6197aa8a762"
   },
   "outputs": [
    {
     "name": "stdout",
     "output_type": "stream",
     "text": [
      "[0, 5]\n"
     ]
    }
   ],
   "source": [
    "#Давайте лучше сделаем так\n",
    "vector = [5, 10] # Используем для хранения значений список\n",
    "# Уже лучше, компонетны вектора находятся рядом.\n",
    "# Давайте попробуем сделать некоторые операции\n",
    "another_vector = [-5, 5]\n",
    "sum_vector = [0, 0]\n",
    "sum_vector[0] = vector[0] + another_vector[0]\n",
    "sum_vector[1] = vector[1] + another_vector[0]\n",
    "print(sum_vector) # Должен быть [0,15]"
   ]
  },
  {
   "cell_type": "markdown",
   "metadata": {
    "id": "HkoqiojDtZo-"
   },
   "source": [
    "Упс, что то пошло не так. Ну как вы могли заметить, я забыл изменить индекс при сложении второй компонеты вектора. Если вы думаете что с вами этого никогда не произойдет, то я могу сказать что мировой опыт показывает что произойдет, потом ещё раз произойдет, затем догонит, отберет зачетку, выпьет вашу газировку и ещё раз произойдет.\n",
    "\n",
    "Поскольку вектор это некая самостоятельная сущность отличная от массива или списка, разумным будет описать её собсвенный типом данных. Одно из определений класса - это как раз пользовательский тип данных"
   ]
  },
  {
   "cell_type": "code",
   "execution_count": 63,
   "metadata": {
    "id": "cPn4zOvEtZo_"
   },
   "outputs": [],
   "source": [
    "class Vector:\n",
    "    def __init__(self, x=0, y=0):\n",
    "        self.x = x\n",
    "        self.y = y  \n",
    "        \n",
    "# Сейчас я описал свой тип данных, который хранит два поля x и y\n",
    "# Создать переменную (экземпляр класса или объект) можно следующим образом\n",
    "vector = Vector(5, 10)\n",
    "# При создании происходит вызов так  называемого конструктора \n",
    "# - части кода отвечающий за инициализацию объекта данного класса\n",
    "# Механизм конструктора отличается в разных ЯП\n",
    "# в  Python конструктор объявляется специальным метод __init__ и может быть только один"
   ]
  },
  {
   "cell_type": "code",
   "execution_count": 64,
   "metadata": {
    "colab": {
     "base_uri": "https://localhost:8080/"
    },
    "id": "3-CTRfWF_duC",
    "outputId": "0a4321f5-d49a-402d-e17e-f1372a7438f4"
   },
   "outputs": [
    {
     "data": {
      "text/plain": [
       "(<__main__.Vector at 0x7f20c6aaf1f0>, 5, 10)"
      ]
     },
     "execution_count": 64,
     "metadata": {},
     "output_type": "execute_result"
    }
   ],
   "source": [
    "vector, vector.x, vector.y"
   ]
  },
  {
   "cell_type": "code",
   "execution_count": 65,
   "metadata": {
    "colab": {
     "base_uri": "https://localhost:8080/"
    },
    "id": "tneDRTuztZpA",
    "outputId": "ce77b3c1-b68e-4f8e-f794-434a30a46bd9"
   },
   "outputs": [
    {
     "name": "stdout",
     "output_type": "stream",
     "text": [
      "0 20\n"
     ]
    }
   ],
   "source": [
    "another_vector = Vector(-5, 10)\n",
    "sum_vector = Vector()\n",
    "sum_vector.x = vector.x + another_vector.x\n",
    "sum_vector.y = vector.y + another_vector.y\n",
    "print(sum_vector.x, sum_vector.y)"
   ]
  },
  {
   "cell_type": "markdown",
   "metadata": {
    "id": "tJTDp3H0tZpA"
   },
   "source": [
    "Стало чуть лучше, но все еще возможны глупые ошибки. Давайте взгляем с такой точки зрения. Операция сложениния векторов это свойcтво самых векторов.\n",
    "Хорошо бы иметь возможность просто написать:\n",
    "```\n",
    "vector_sum = vector1 + vector2\n",
    "```\n",
    "И это можно сделать с помощью механизма перегрузки операторов (что вообще говоря делается в приличных библиотеках)"
   ]
  },
  {
   "cell_type": "code",
   "execution_count": 66,
   "metadata": {
    "id": "CEB5T5SNtZpB"
   },
   "outputs": [],
   "source": [
    "class Vector:\n",
    "    def __init__(self, x = 0, y = 0):\n",
    "        self.x = x\n",
    "        self.y = y\n",
    "        \n",
    "    def __add__(self, vector):\n",
    "        \"\"\"\n",
    "        Это специальный метод перегружает оператор +\n",
    "        \"\"\"\n",
    "\n",
    "        return Vector(self.x + vector.x, self.y + vector.y)\n",
    "\n",
    "    def __iadd__(self, vector):\n",
    "        \"\"\"\n",
    "        Это специальный метод перегружает оператор +=\n",
    "        \"\"\"\n",
    "        self.x += vector.x\n",
    "        self.y += vector.y\n",
    "\n",
    "        return self\n",
    "\n",
    "    def __sub__(self, vector):\n",
    "        \"\"\"\n",
    "        Это специальный метод перегружает оператор -\n",
    "        \"\"\"\n",
    "\n",
    "        return Vector(self.x - vector.x, self.y - vector.y)\n",
    "\n",
    "    def __repr__(self):\n",
    "        \"\"\"\n",
    "        Это метод создает текстовое опредставление класса\n",
    "        \"\"\"\n",
    "\n",
    "        return \"x = {}, y = {}\".format(self.x, self.y)"
   ]
  },
  {
   "cell_type": "code",
   "execution_count": 67,
   "metadata": {
    "colab": {
     "base_uri": "https://localhost:8080/"
    },
    "id": "k2cVssSetZpB",
    "outputId": "220d1426-aa4a-4e4a-b27c-8dad79211c5c"
   },
   "outputs": [
    {
     "name": "stdout",
     "output_type": "stream",
     "text": [
      "x = 0, y = 20\n",
      "x = 5, y = 10\n",
      "x = 0, y = 20\n"
     ]
    }
   ],
   "source": [
    "vector = Vector(5, 10)\n",
    "another_vector = Vector(-5, 10)\n",
    "sum_vector = vector + another_vector\n",
    "vector += another_vector\n",
    "print(vector)\n",
    "diff_vector = vector - another_vector\n",
    "print(diff_vector)\n",
    "print(sum_vector)"
   ]
  },
  {
   "cell_type": "markdown",
   "metadata": {
    "id": "4ZBW6OuptZpC"
   },
   "source": [
    "Вот теперь стало хорошо: мы теперь избегаем глупых ошибок с индексами и кроме того на код стал более лаконичным.\n",
    "\n",
    "Так же мы можем использовать наш класс Vector при создании других типов данных.\n",
    "Например создадим класс описывающий отрезок"
   ]
  },
  {
   "cell_type": "code",
   "execution_count": 68,
   "metadata": {
    "id": "YM20rsnDtZpC"
   },
   "outputs": [],
   "source": [
    "class Line:\n",
    "    pi: float = 3.14\n",
    "\n",
    "    def __init__(self, vec1, vec2):\n",
    "        self.vec1 = vec1\n",
    "        self.vec2 = vec2\n",
    "        print(self.pi)\n",
    "    \n",
    "    def length(self):\n",
    "        p = self.vec1 - self.vec2\n",
    "\n",
    "        return (p.x**2 + p.y**2)**0.5"
   ]
  },
  {
   "cell_type": "code",
   "execution_count": 69,
   "metadata": {
    "id": "804dAUP2tZpD"
   },
   "outputs": [],
   "source": [
    "v1 = Vector(10, 10)\n",
    "v2 = Vector(20, 20)"
   ]
  },
  {
   "cell_type": "code",
   "execution_count": 70,
   "metadata": {
    "colab": {
     "base_uri": "https://localhost:8080/"
    },
    "id": "e-ZhISEctZpD",
    "outputId": "9a1898da-9fc1-493a-c774-a0b71b085c22"
   },
   "outputs": [
    {
     "name": "stdout",
     "output_type": "stream",
     "text": [
      "3.14\n"
     ]
    }
   ],
   "source": [
    "line = Line(v1, v2)"
   ]
  },
  {
   "cell_type": "code",
   "execution_count": 71,
   "metadata": {
    "colab": {
     "base_uri": "https://localhost:8080/"
    },
    "id": "AHeO3vdltZpD",
    "outputId": "1fff79c5-f6cb-45f2-ec6b-12069d37cc84"
   },
   "outputs": [
    {
     "data": {
      "text/plain": [
       "14.142135623730951"
      ]
     },
     "execution_count": 71,
     "metadata": {},
     "output_type": "execute_result"
    }
   ],
   "source": [
    "line.length()"
   ]
  },
  {
   "cell_type": "markdown",
   "metadata": {
    "id": "JgR0N82NtZpD"
   },
   "source": [
    "Другой особеностью классов является возможность иметь методы - или как говорят функции члены класса. Работать с методами удобнее чем просто с внешними фнукциями удобнее по многим причинам: во=первых обеспечмывает логическую связь между функциий типом данных для которого она применима, а во-вторых обеспечивает необходимую область видимости (подребнее смотри инкапсуляция)"
   ]
  },
  {
   "cell_type": "markdown",
   "metadata": {
    "id": "xyKIxtBKtZpE"
   },
   "source": [
    "## ООП\n",
    "\n",
    "Объектно-ориентированное программирование базируется на трех китах:\n",
    "* Инкапсуляция\n",
    "* Наследование\n",
    "* Полиморфизм\n",
    "\n",
    "Следует отметить что большинство основных языков мультипарадименные и как следствие ООП парадигма никогда не используется в чистом виде. Чаше всего встречаются смесь процедурной и ООП парадигим. Болле новым и более правильным трендом является использования смеси функциональной и ООП парадигм."
   ]
  },
  {
   "cell_type": "markdown",
   "metadata": {
    "id": "864lzLFgtZpE"
   },
   "source": [
    "### Наследование"
   ]
  },
  {
   "cell_type": "markdown",
   "metadata": {
    "id": "AjiQuZtTtZpE"
   },
   "source": [
    "Расмотрим нашу ситуацию с классом Vector - он описывает двухмерный вектор, но что если мы захотим работать с трехмерным вектором. Нам нужно снова повторять весь код? Не очень то хочется, да  если подумать по сути свой двухмерные и  трехмерные вектора очень похожи. Более того мы можем обобщить их свойства до n-мерного вектора.\n",
    "Давайте для начала опишем n-мерный вектор."
   ]
  },
  {
   "cell_type": "code",
   "execution_count": 72,
   "metadata": {
    "id": "DaPKQxA-tZpF"
   },
   "outputs": [],
   "source": [
    "class Vector:\n",
    "    def __init__(self, *arg):\n",
    "        self._vector = arg\n",
    "        self.size = len(arg)\n",
    "    \n",
    "    def __getitem__(self, key):\n",
    "        \n",
    "        return self._vector[key]\n",
    "    \n",
    "    def __add__(self,vector):\n",
    "        \"\"\"\n",
    "        Это специальный метод перегружает оператор +\n",
    "        \"\"\"\n",
    "\n",
    "        return Vector(*[self[i] + vector[i] for i in range(vector.size)])\n",
    "    \n",
    "    def __repr__(self):\n",
    "        \"\"\"\n",
    "        Это метод создает текстовое опредставление класса\n",
    "        \"\"\"\n",
    "\n",
    "        return str(self._vector)\n",
    "\n",
    "    def module(self):\n",
    "\n",
    "        return sum([x**2 for x in self._vector])**0.5"
   ]
  },
  {
   "cell_type": "code",
   "execution_count": 73,
   "metadata": {
    "id": "-RhcKat2tZpF"
   },
   "outputs": [],
   "source": [
    "vector = Vector(1, 2, 3)"
   ]
  },
  {
   "cell_type": "code",
   "execution_count": 74,
   "metadata": {
    "colab": {
     "base_uri": "https://localhost:8080/"
    },
    "id": "Y8cTsGK_tZpF",
    "outputId": "474766d7-3a14-47ab-bde3-c9e5e0637c1e"
   },
   "outputs": [
    {
     "name": "stdout",
     "output_type": "stream",
     "text": [
      "(1, 2, 3)\n"
     ]
    }
   ],
   "source": [
    "print(vector)"
   ]
  },
  {
   "cell_type": "code",
   "execution_count": 75,
   "metadata": {
    "colab": {
     "base_uri": "https://localhost:8080/"
    },
    "id": "rmYVQy_-tZpG",
    "outputId": "87543304-2d4b-48f5-f323-1c020b829978"
   },
   "outputs": [
    {
     "data": {
      "text/plain": [
       "3"
      ]
     },
     "execution_count": 75,
     "metadata": {},
     "output_type": "execute_result"
    }
   ],
   "source": [
    "vector[2]"
   ]
  },
  {
   "cell_type": "code",
   "execution_count": 76,
   "metadata": {
    "colab": {
     "base_uri": "https://localhost:8080/"
    },
    "id": "H2rl4G_utZpG",
    "outputId": "d75582a4-32e3-4666-d622-f07c2f52a55b"
   },
   "outputs": [
    {
     "name": "stdout",
     "output_type": "stream",
     "text": [
      "(0, 0, 0)\n"
     ]
    }
   ],
   "source": [
    "print(vector + Vector(-1, -2, -3))"
   ]
  },
  {
   "cell_type": "markdown",
   "metadata": {
    "id": "p4lE7u1LtZpG"
   },
   "source": [
    "Мы получили многомерный вектор, однако в частный случях когда мы работаем с 2D и 3D векторами было бы удобно обращаться по именам координат x,y,z.\n",
    "\n",
    "Для того что бы описать эти частный случаи и не потерять возможности описанные в многомерном векторе мы унаследуем его функционал"
   ]
  },
  {
   "cell_type": "code",
   "execution_count": 77,
   "metadata": {
    "id": "ruME9u_ZtZpG"
   },
   "outputs": [],
   "source": [
    "class Vector2D(Vector):\n",
    "    def __init__(self, x,y):\n",
    "        self.x = x\n",
    "        self.y = y\n",
    "        super().__init__(x,y)  # Обращение к родительскому классу"
   ]
  },
  {
   "cell_type": "code",
   "execution_count": 78,
   "metadata": {
    "id": "fG6i7AUytZpH"
   },
   "outputs": [],
   "source": [
    "vec2d = Vector2D(3, 4) "
   ]
  },
  {
   "cell_type": "code",
   "execution_count": 79,
   "metadata": {
    "colab": {
     "base_uri": "https://localhost:8080/"
    },
    "id": "1xD9X7BAtZpH",
    "outputId": "070015cb-fc5b-4361-bae5-5d9aa1711117"
   },
   "outputs": [
    {
     "name": "stdout",
     "output_type": "stream",
     "text": [
      "3\n"
     ]
    }
   ],
   "source": [
    "print(vec2d.x)"
   ]
  },
  {
   "cell_type": "code",
   "execution_count": 80,
   "metadata": {
    "colab": {
     "base_uri": "https://localhost:8080/"
    },
    "id": "tSbqSnSttZpI",
    "outputId": "cc6742c8-cb84-4a67-c43c-8595ff36d245"
   },
   "outputs": [
    {
     "name": "stdout",
     "output_type": "stream",
     "text": [
      "(2, 2)\n"
     ]
    }
   ],
   "source": [
    "print(vec2d + Vector2D(-1,-2))"
   ]
  },
  {
   "cell_type": "code",
   "execution_count": 81,
   "metadata": {
    "colab": {
     "base_uri": "https://localhost:8080/"
    },
    "id": "vzex5PdptZpJ",
    "outputId": "e790331a-fa34-4b49-89f3-a28085dfca83"
   },
   "outputs": [
    {
     "name": "stdout",
     "output_type": "stream",
     "text": [
      "5.0\n"
     ]
    }
   ],
   "source": [
    "print(vec2d.module())"
   ]
  },
  {
   "cell_type": "markdown",
   "metadata": {
    "id": "IsyQnosHtZpJ"
   },
   "source": [
    "Обратите внимание в классе Vector2D не описаны не метод module и не перегружен оператор +, однако они работают поскольку унаследованые от его родителя.\n",
    "\n",
    "Классы наследники дополняют функционал класса родителя и если какая часть программы умеет работать с классом родителем то она и будет уметь работать с классом-наследником\n",
    "\n",
    "Подводя итог можно сказать, что наследование позволяет выделять общее поведение для ряда типов данных и описывать его только один раз в классе родителей"
   ]
  },
  {
   "cell_type": "markdown",
   "metadata": {
    "id": "MJGJdlhUtZpJ"
   },
   "source": [
    "### Инкапсуляция и полимофизм\n",
    "\n",
    "Инкапсуляция может тобозначать две вещи\n",
    "* Объединение данных методов работы с ними - наш класс вектор содержит не только компоненты вектора, но и функции характерные именно для векторов - покомпонентное сложение и вычисление модуля\n",
    "* Сокрытие внутренней реализации объекта - нам важно какой функционал предоставляет объект и наша программа не зависит от того как этот функционал реализован.\n",
    "Полиморфизм - говорит о возможности использовать подтипы не имея информации о типе и внутреней реализации\n",
    "Рассмотрит два примера реализации класса Vector:"
   ]
  },
  {
   "cell_type": "code",
   "execution_count": 82,
   "metadata": {
    "id": "KbeprYNptZpK"
   },
   "outputs": [],
   "source": [
    "class Vector:\n",
    "    def module(self):\n",
    "        pass\n",
    "    \n",
    "class Vector1(Vector):\n",
    "    def __init__(self, *arg):\n",
    "        self._vector = arg\n",
    "        self.size = len(arg)\n",
    "    \n",
    "    def module(self):\n",
    "        \n",
    "        return sum([x**2 for x in self._vector])**0.5"
   ]
  },
  {
   "cell_type": "code",
   "execution_count": 83,
   "metadata": {
    "id": "2bd_qVbitZpK"
   },
   "outputs": [],
   "source": [
    "import numpy as np\n",
    "\n",
    "class Vector2(Vector):\n",
    "    def __init__(self, *arg):\n",
    "        self._vector = np.asarray(arg)\n",
    "        self.size = len(arg)\n",
    "    \n",
    "    def module(self):\n",
    "        \n",
    "        return np.linalg.norm(self._vector)"
   ]
  },
  {
   "cell_type": "code",
   "execution_count": 84,
   "metadata": {
    "colab": {
     "base_uri": "https://localhost:8080/"
    },
    "id": "p0sc287wtZpK",
    "outputId": "a64e4e4a-6968-41c0-c467-7b8118f88d09"
   },
   "outputs": [
    {
     "data": {
      "text/plain": [
       "5.0"
      ]
     },
     "execution_count": 84,
     "metadata": {},
     "output_type": "execute_result"
    }
   ],
   "source": [
    "Vector1(3, 4).module()"
   ]
  },
  {
   "cell_type": "code",
   "execution_count": 85,
   "metadata": {
    "colab": {
     "base_uri": "https://localhost:8080/"
    },
    "id": "FEkaTUeMtZpK",
    "outputId": "00f0cb75-b1af-4441-8920-ef48f32db7c4"
   },
   "outputs": [
    {
     "data": {
      "text/plain": [
       "5.0"
      ]
     },
     "execution_count": 85,
     "metadata": {},
     "output_type": "execute_result"
    }
   ],
   "source": [
    "Vector2(3, 4).module()"
   ]
  },
  {
   "cell_type": "markdown",
   "metadata": {
    "id": "RPSAMkortZpL"
   },
   "source": [
    "Классы Vector1 и Vector2 отличаются внутреней реализацией, но внешнему коду важно только наличие метода module и не важно что именно он внутри делает.\n"
   ]
  }
 ],
 "metadata": {
  "colab": {
   "provenance": []
  },
  "kernelspec": {
   "display_name": "Python 3 (ipykernel)",
   "language": "python",
   "name": "python3"
  },
  "language_info": {
   "codemirror_mode": {
    "name": "ipython",
    "version": 3
   },
   "file_extension": ".py",
   "mimetype": "text/x-python",
   "name": "python",
   "nbconvert_exporter": "python",
   "pygments_lexer": "ipython3",
   "version": "3.10.9"
  }
 },
 "nbformat": 4,
 "nbformat_minor": 4
}

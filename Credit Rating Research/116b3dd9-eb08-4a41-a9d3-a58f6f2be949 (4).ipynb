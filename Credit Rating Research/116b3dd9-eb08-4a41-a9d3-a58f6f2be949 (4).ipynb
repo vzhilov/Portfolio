{
 "cells": [
  {
   "cell_type": "markdown",
   "id": "cc63317c",
   "metadata": {
    "deletable": false,
    "editable": false,
    "id": "c81daeeb"
   },
   "source": [
    "# Исследование надежности заемщиков\n"
   ]
  },
  {
   "cell_type": "markdown",
   "id": "f34b24c1",
   "metadata": {},
   "source": [
    "**Общая информация:** Данное теоретическое исследование было проведено для кредитного отдела банка. Входные данные от банка — деперсонализированная таблица клиентов, где указаны такие характеристики как: семейное положение, уровень образования и дохода тип занятости и цели полеченных кредитов. В колонке `debt` указано был ли кредит выплачен в срок, или имелась просрочка.\n",
    "\n",
    "**Цель исследования:** проанализировать, влияет ли уровень дохода, цель кредита, семейное положение и количество детей в семье клиента на факт погашения кредита в срок. Результаты исследования будут учтены при построении модели кредитного скоринга — специальной системы, которая оценивает способность потенциального заёмщика вернуть кредит банку.\n",
    "\n",
    "**Описание данных**\n",
    "* `children` — количество детей в семье\n",
    "* `days_employed` — общий трудовой стаж в днях\n",
    "* `dob_years` — возраст клиента в годах\n",
    "* `education` — уровень образования клиента\n",
    "* `education_id` — идентификатор уровня образования\n",
    "* `family_status` — семейное положение\n",
    "* `family_status_id` — идентификатор семейного положения\n",
    "* `gender` — пол клиента\n",
    "* `income_type` — тип занятости\n",
    "* `debt` — имел ли задолженность по возврату кредитов\n",
    "* `total_income` — ежемесячный доход\n",
    "* `purpose` — цель получения кредита\n",
    "\n",
    "**План работы:** \n",
    "1. Ознакомление с предоставленным данными\n",
    "2. Предобработка данных (удаление пропусков и обработка аномалий)\n",
    "3. Категоризация\n",
    "4. Непосредственный анализ и ответы на поставленные вопросы\n",
    "\n",
    "\n"
   ]
  },
  {
   "cell_type": "markdown",
   "id": "1f5800a5",
   "metadata": {
    "deletable": false,
    "editable": false,
    "id": "744d7639"
   },
   "source": [
    "## Откроем таблицу и изучим общую информацию о данных"
   ]
  },
  {
   "cell_type": "markdown",
   "id": "e2dc9447",
   "metadata": {},
   "source": [
    "**1. Подключим необходимые библиотеки и прочитаем таблицу**"
   ]
  },
  {
   "cell_type": "code",
   "execution_count": 1,
   "id": "3e328947",
   "metadata": {},
   "outputs": [],
   "source": [
    "# Подгружаем все необходимые библиотеки для нашего исследования\n",
    "import pandas as pd\n",
    "import seaborn\n",
    "import matplotlib.pyplot as plt"
   ]
  },
  {
   "cell_type": "code",
   "execution_count": 2,
   "id": "98fc685c",
   "metadata": {
    "deletable": false,
    "id": "7bcf75c9"
   },
   "outputs": [],
   "source": [
    "# Читаем предоставленные данные и заносим их в переменную data\n",
    "try:\n",
    "    data = pd.read_csv('/datasets/data.csv')\n",
    "except:\n",
    "    data = pd.read_csv('https://code.s3.yandex.net/datasets/data.csv')"
   ]
  },
  {
   "cell_type": "markdown",
   "id": "02298b03",
   "metadata": {
    "deletable": false,
    "editable": false,
    "id": "b8038fe3"
   },
   "source": [
    "**2. Выведем первые 20 строчек датафрейма `data` на экран.**"
   ]
  },
  {
   "cell_type": "code",
   "execution_count": 3,
   "id": "5663fd73",
   "metadata": {
    "deletable": false,
    "id": "2a7cab99",
    "outputId": "1a8f3ef2-d323-4ec2-ddf7-89670b5944c4"
   },
   "outputs": [
    {
     "data": {
      "text/html": [
       "<div>\n",
       "<style scoped>\n",
       "    .dataframe tbody tr th:only-of-type {\n",
       "        vertical-align: middle;\n",
       "    }\n",
       "\n",
       "    .dataframe tbody tr th {\n",
       "        vertical-align: top;\n",
       "    }\n",
       "\n",
       "    .dataframe thead th {\n",
       "        text-align: right;\n",
       "    }\n",
       "</style>\n",
       "<table border=\"1\" class=\"dataframe\">\n",
       "  <thead>\n",
       "    <tr style=\"text-align: right;\">\n",
       "      <th></th>\n",
       "      <th>children</th>\n",
       "      <th>days_employed</th>\n",
       "      <th>dob_years</th>\n",
       "      <th>education</th>\n",
       "      <th>education_id</th>\n",
       "      <th>family_status</th>\n",
       "      <th>family_status_id</th>\n",
       "      <th>gender</th>\n",
       "      <th>income_type</th>\n",
       "      <th>debt</th>\n",
       "      <th>total_income</th>\n",
       "      <th>purpose</th>\n",
       "    </tr>\n",
       "  </thead>\n",
       "  <tbody>\n",
       "    <tr>\n",
       "      <th>0</th>\n",
       "      <td>1</td>\n",
       "      <td>-8437.673028</td>\n",
       "      <td>42</td>\n",
       "      <td>высшее</td>\n",
       "      <td>0</td>\n",
       "      <td>женат / замужем</td>\n",
       "      <td>0</td>\n",
       "      <td>F</td>\n",
       "      <td>сотрудник</td>\n",
       "      <td>0</td>\n",
       "      <td>253875.639453</td>\n",
       "      <td>покупка жилья</td>\n",
       "    </tr>\n",
       "    <tr>\n",
       "      <th>1</th>\n",
       "      <td>1</td>\n",
       "      <td>-4024.803754</td>\n",
       "      <td>36</td>\n",
       "      <td>среднее</td>\n",
       "      <td>1</td>\n",
       "      <td>женат / замужем</td>\n",
       "      <td>0</td>\n",
       "      <td>F</td>\n",
       "      <td>сотрудник</td>\n",
       "      <td>0</td>\n",
       "      <td>112080.014102</td>\n",
       "      <td>приобретение автомобиля</td>\n",
       "    </tr>\n",
       "    <tr>\n",
       "      <th>2</th>\n",
       "      <td>0</td>\n",
       "      <td>-5623.422610</td>\n",
       "      <td>33</td>\n",
       "      <td>Среднее</td>\n",
       "      <td>1</td>\n",
       "      <td>женат / замужем</td>\n",
       "      <td>0</td>\n",
       "      <td>M</td>\n",
       "      <td>сотрудник</td>\n",
       "      <td>0</td>\n",
       "      <td>145885.952297</td>\n",
       "      <td>покупка жилья</td>\n",
       "    </tr>\n",
       "    <tr>\n",
       "      <th>3</th>\n",
       "      <td>3</td>\n",
       "      <td>-4124.747207</td>\n",
       "      <td>32</td>\n",
       "      <td>среднее</td>\n",
       "      <td>1</td>\n",
       "      <td>женат / замужем</td>\n",
       "      <td>0</td>\n",
       "      <td>M</td>\n",
       "      <td>сотрудник</td>\n",
       "      <td>0</td>\n",
       "      <td>267628.550329</td>\n",
       "      <td>дополнительное образование</td>\n",
       "    </tr>\n",
       "    <tr>\n",
       "      <th>4</th>\n",
       "      <td>0</td>\n",
       "      <td>340266.072047</td>\n",
       "      <td>53</td>\n",
       "      <td>среднее</td>\n",
       "      <td>1</td>\n",
       "      <td>гражданский брак</td>\n",
       "      <td>1</td>\n",
       "      <td>F</td>\n",
       "      <td>пенсионер</td>\n",
       "      <td>0</td>\n",
       "      <td>158616.077870</td>\n",
       "      <td>сыграть свадьбу</td>\n",
       "    </tr>\n",
       "    <tr>\n",
       "      <th>5</th>\n",
       "      <td>0</td>\n",
       "      <td>-926.185831</td>\n",
       "      <td>27</td>\n",
       "      <td>высшее</td>\n",
       "      <td>0</td>\n",
       "      <td>гражданский брак</td>\n",
       "      <td>1</td>\n",
       "      <td>M</td>\n",
       "      <td>компаньон</td>\n",
       "      <td>0</td>\n",
       "      <td>255763.565419</td>\n",
       "      <td>покупка жилья</td>\n",
       "    </tr>\n",
       "    <tr>\n",
       "      <th>6</th>\n",
       "      <td>0</td>\n",
       "      <td>-2879.202052</td>\n",
       "      <td>43</td>\n",
       "      <td>высшее</td>\n",
       "      <td>0</td>\n",
       "      <td>женат / замужем</td>\n",
       "      <td>0</td>\n",
       "      <td>F</td>\n",
       "      <td>компаньон</td>\n",
       "      <td>0</td>\n",
       "      <td>240525.971920</td>\n",
       "      <td>операции с жильем</td>\n",
       "    </tr>\n",
       "    <tr>\n",
       "      <th>7</th>\n",
       "      <td>0</td>\n",
       "      <td>-152.779569</td>\n",
       "      <td>50</td>\n",
       "      <td>СРЕДНЕЕ</td>\n",
       "      <td>1</td>\n",
       "      <td>женат / замужем</td>\n",
       "      <td>0</td>\n",
       "      <td>M</td>\n",
       "      <td>сотрудник</td>\n",
       "      <td>0</td>\n",
       "      <td>135823.934197</td>\n",
       "      <td>образование</td>\n",
       "    </tr>\n",
       "    <tr>\n",
       "      <th>8</th>\n",
       "      <td>2</td>\n",
       "      <td>-6929.865299</td>\n",
       "      <td>35</td>\n",
       "      <td>ВЫСШЕЕ</td>\n",
       "      <td>0</td>\n",
       "      <td>гражданский брак</td>\n",
       "      <td>1</td>\n",
       "      <td>F</td>\n",
       "      <td>сотрудник</td>\n",
       "      <td>0</td>\n",
       "      <td>95856.832424</td>\n",
       "      <td>на проведение свадьбы</td>\n",
       "    </tr>\n",
       "    <tr>\n",
       "      <th>9</th>\n",
       "      <td>0</td>\n",
       "      <td>-2188.756445</td>\n",
       "      <td>41</td>\n",
       "      <td>среднее</td>\n",
       "      <td>1</td>\n",
       "      <td>женат / замужем</td>\n",
       "      <td>0</td>\n",
       "      <td>M</td>\n",
       "      <td>сотрудник</td>\n",
       "      <td>0</td>\n",
       "      <td>144425.938277</td>\n",
       "      <td>покупка жилья для семьи</td>\n",
       "    </tr>\n",
       "    <tr>\n",
       "      <th>10</th>\n",
       "      <td>2</td>\n",
       "      <td>-4171.483647</td>\n",
       "      <td>36</td>\n",
       "      <td>высшее</td>\n",
       "      <td>0</td>\n",
       "      <td>женат / замужем</td>\n",
       "      <td>0</td>\n",
       "      <td>M</td>\n",
       "      <td>компаньон</td>\n",
       "      <td>0</td>\n",
       "      <td>113943.491460</td>\n",
       "      <td>покупка недвижимости</td>\n",
       "    </tr>\n",
       "    <tr>\n",
       "      <th>11</th>\n",
       "      <td>0</td>\n",
       "      <td>-792.701887</td>\n",
       "      <td>40</td>\n",
       "      <td>среднее</td>\n",
       "      <td>1</td>\n",
       "      <td>женат / замужем</td>\n",
       "      <td>0</td>\n",
       "      <td>F</td>\n",
       "      <td>сотрудник</td>\n",
       "      <td>0</td>\n",
       "      <td>77069.234271</td>\n",
       "      <td>покупка коммерческой недвижимости</td>\n",
       "    </tr>\n",
       "    <tr>\n",
       "      <th>12</th>\n",
       "      <td>0</td>\n",
       "      <td>NaN</td>\n",
       "      <td>65</td>\n",
       "      <td>среднее</td>\n",
       "      <td>1</td>\n",
       "      <td>гражданский брак</td>\n",
       "      <td>1</td>\n",
       "      <td>M</td>\n",
       "      <td>пенсионер</td>\n",
       "      <td>0</td>\n",
       "      <td>NaN</td>\n",
       "      <td>сыграть свадьбу</td>\n",
       "    </tr>\n",
       "    <tr>\n",
       "      <th>13</th>\n",
       "      <td>0</td>\n",
       "      <td>-1846.641941</td>\n",
       "      <td>54</td>\n",
       "      <td>неоконченное высшее</td>\n",
       "      <td>2</td>\n",
       "      <td>женат / замужем</td>\n",
       "      <td>0</td>\n",
       "      <td>F</td>\n",
       "      <td>сотрудник</td>\n",
       "      <td>0</td>\n",
       "      <td>130458.228857</td>\n",
       "      <td>приобретение автомобиля</td>\n",
       "    </tr>\n",
       "    <tr>\n",
       "      <th>14</th>\n",
       "      <td>0</td>\n",
       "      <td>-1844.956182</td>\n",
       "      <td>56</td>\n",
       "      <td>высшее</td>\n",
       "      <td>0</td>\n",
       "      <td>гражданский брак</td>\n",
       "      <td>1</td>\n",
       "      <td>F</td>\n",
       "      <td>компаньон</td>\n",
       "      <td>1</td>\n",
       "      <td>165127.911772</td>\n",
       "      <td>покупка жилой недвижимости</td>\n",
       "    </tr>\n",
       "    <tr>\n",
       "      <th>15</th>\n",
       "      <td>1</td>\n",
       "      <td>-972.364419</td>\n",
       "      <td>26</td>\n",
       "      <td>среднее</td>\n",
       "      <td>1</td>\n",
       "      <td>женат / замужем</td>\n",
       "      <td>0</td>\n",
       "      <td>F</td>\n",
       "      <td>сотрудник</td>\n",
       "      <td>0</td>\n",
       "      <td>116820.904450</td>\n",
       "      <td>строительство собственной недвижимости</td>\n",
       "    </tr>\n",
       "    <tr>\n",
       "      <th>16</th>\n",
       "      <td>0</td>\n",
       "      <td>-1719.934226</td>\n",
       "      <td>35</td>\n",
       "      <td>среднее</td>\n",
       "      <td>1</td>\n",
       "      <td>женат / замужем</td>\n",
       "      <td>0</td>\n",
       "      <td>F</td>\n",
       "      <td>сотрудник</td>\n",
       "      <td>0</td>\n",
       "      <td>289202.704229</td>\n",
       "      <td>недвижимость</td>\n",
       "    </tr>\n",
       "    <tr>\n",
       "      <th>17</th>\n",
       "      <td>0</td>\n",
       "      <td>-2369.999720</td>\n",
       "      <td>33</td>\n",
       "      <td>высшее</td>\n",
       "      <td>0</td>\n",
       "      <td>гражданский брак</td>\n",
       "      <td>1</td>\n",
       "      <td>M</td>\n",
       "      <td>сотрудник</td>\n",
       "      <td>0</td>\n",
       "      <td>90410.586745</td>\n",
       "      <td>строительство недвижимости</td>\n",
       "    </tr>\n",
       "    <tr>\n",
       "      <th>18</th>\n",
       "      <td>0</td>\n",
       "      <td>400281.136913</td>\n",
       "      <td>53</td>\n",
       "      <td>среднее</td>\n",
       "      <td>1</td>\n",
       "      <td>вдовец / вдова</td>\n",
       "      <td>2</td>\n",
       "      <td>F</td>\n",
       "      <td>пенсионер</td>\n",
       "      <td>0</td>\n",
       "      <td>56823.777243</td>\n",
       "      <td>на покупку подержанного автомобиля</td>\n",
       "    </tr>\n",
       "    <tr>\n",
       "      <th>19</th>\n",
       "      <td>0</td>\n",
       "      <td>-10038.818549</td>\n",
       "      <td>48</td>\n",
       "      <td>СРЕДНЕЕ</td>\n",
       "      <td>1</td>\n",
       "      <td>в разводе</td>\n",
       "      <td>3</td>\n",
       "      <td>F</td>\n",
       "      <td>сотрудник</td>\n",
       "      <td>0</td>\n",
       "      <td>242831.107982</td>\n",
       "      <td>на покупку своего автомобиля</td>\n",
       "    </tr>\n",
       "  </tbody>\n",
       "</table>\n",
       "</div>"
      ],
      "text/plain": [
       "    children  days_employed  dob_years            education  education_id  \\\n",
       "0          1   -8437.673028         42               высшее             0   \n",
       "1          1   -4024.803754         36              среднее             1   \n",
       "2          0   -5623.422610         33              Среднее             1   \n",
       "3          3   -4124.747207         32              среднее             1   \n",
       "4          0  340266.072047         53              среднее             1   \n",
       "5          0    -926.185831         27               высшее             0   \n",
       "6          0   -2879.202052         43               высшее             0   \n",
       "7          0    -152.779569         50              СРЕДНЕЕ             1   \n",
       "8          2   -6929.865299         35               ВЫСШЕЕ             0   \n",
       "9          0   -2188.756445         41              среднее             1   \n",
       "10         2   -4171.483647         36               высшее             0   \n",
       "11         0    -792.701887         40              среднее             1   \n",
       "12         0            NaN         65              среднее             1   \n",
       "13         0   -1846.641941         54  неоконченное высшее             2   \n",
       "14         0   -1844.956182         56               высшее             0   \n",
       "15         1    -972.364419         26              среднее             1   \n",
       "16         0   -1719.934226         35              среднее             1   \n",
       "17         0   -2369.999720         33               высшее             0   \n",
       "18         0  400281.136913         53              среднее             1   \n",
       "19         0  -10038.818549         48              СРЕДНЕЕ             1   \n",
       "\n",
       "       family_status  family_status_id gender income_type  debt  \\\n",
       "0    женат / замужем                 0      F   сотрудник     0   \n",
       "1    женат / замужем                 0      F   сотрудник     0   \n",
       "2    женат / замужем                 0      M   сотрудник     0   \n",
       "3    женат / замужем                 0      M   сотрудник     0   \n",
       "4   гражданский брак                 1      F   пенсионер     0   \n",
       "5   гражданский брак                 1      M   компаньон     0   \n",
       "6    женат / замужем                 0      F   компаньон     0   \n",
       "7    женат / замужем                 0      M   сотрудник     0   \n",
       "8   гражданский брак                 1      F   сотрудник     0   \n",
       "9    женат / замужем                 0      M   сотрудник     0   \n",
       "10   женат / замужем                 0      M   компаньон     0   \n",
       "11   женат / замужем                 0      F   сотрудник     0   \n",
       "12  гражданский брак                 1      M   пенсионер     0   \n",
       "13   женат / замужем                 0      F   сотрудник     0   \n",
       "14  гражданский брак                 1      F   компаньон     1   \n",
       "15   женат / замужем                 0      F   сотрудник     0   \n",
       "16   женат / замужем                 0      F   сотрудник     0   \n",
       "17  гражданский брак                 1      M   сотрудник     0   \n",
       "18    вдовец / вдова                 2      F   пенсионер     0   \n",
       "19         в разводе                 3      F   сотрудник     0   \n",
       "\n",
       "     total_income                                 purpose  \n",
       "0   253875.639453                           покупка жилья  \n",
       "1   112080.014102                 приобретение автомобиля  \n",
       "2   145885.952297                           покупка жилья  \n",
       "3   267628.550329              дополнительное образование  \n",
       "4   158616.077870                         сыграть свадьбу  \n",
       "5   255763.565419                           покупка жилья  \n",
       "6   240525.971920                       операции с жильем  \n",
       "7   135823.934197                             образование  \n",
       "8    95856.832424                   на проведение свадьбы  \n",
       "9   144425.938277                 покупка жилья для семьи  \n",
       "10  113943.491460                    покупка недвижимости  \n",
       "11   77069.234271       покупка коммерческой недвижимости  \n",
       "12            NaN                         сыграть свадьбу  \n",
       "13  130458.228857                 приобретение автомобиля  \n",
       "14  165127.911772              покупка жилой недвижимости  \n",
       "15  116820.904450  строительство собственной недвижимости  \n",
       "16  289202.704229                            недвижимость  \n",
       "17   90410.586745              строительство недвижимости  \n",
       "18   56823.777243      на покупку подержанного автомобиля  \n",
       "19  242831.107982            на покупку своего автомобиля  "
      ]
     },
     "execution_count": 3,
     "metadata": {},
     "output_type": "execute_result"
    }
   ],
   "source": [
    "data.head(20)"
   ]
  },
  {
   "cell_type": "markdown",
   "id": "1240a78d",
   "metadata": {
    "deletable": false,
    "editable": false,
    "id": "1c12e233"
   },
   "source": [
    "**3. Основную информацию о датафрейме отобразим с помощью метода `info()`.**"
   ]
  },
  {
   "cell_type": "code",
   "execution_count": 4,
   "id": "0561a3ec",
   "metadata": {
    "deletable": false,
    "id": "2b757bca",
    "outputId": "15376089-8dad-46c9-b520-c05248d43158"
   },
   "outputs": [
    {
     "name": "stdout",
     "output_type": "stream",
     "text": [
      "<class 'pandas.core.frame.DataFrame'>\n",
      "RangeIndex: 21525 entries, 0 to 21524\n",
      "Data columns (total 12 columns):\n",
      " #   Column            Non-Null Count  Dtype  \n",
      "---  ------            --------------  -----  \n",
      " 0   children          21525 non-null  int64  \n",
      " 1   days_employed     19351 non-null  float64\n",
      " 2   dob_years         21525 non-null  int64  \n",
      " 3   education         21525 non-null  object \n",
      " 4   education_id      21525 non-null  int64  \n",
      " 5   family_status     21525 non-null  object \n",
      " 6   family_status_id  21525 non-null  int64  \n",
      " 7   gender            21525 non-null  object \n",
      " 8   income_type       21525 non-null  object \n",
      " 9   debt              21525 non-null  int64  \n",
      " 10  total_income      19351 non-null  float64\n",
      " 11  purpose           21525 non-null  object \n",
      "dtypes: float64(2), int64(5), object(5)\n",
      "memory usage: 2.0+ MB\n"
     ]
    }
   ],
   "source": [
    "data.info()"
   ]
  },
  {
   "cell_type": "markdown",
   "id": "cff7913b",
   "metadata": {},
   "source": [
    "Мы видим, что датасет имеет длину в ~21 000 строк и содержит как целочисленные, так и строковые данные в столбцах.\n",
    "\n",
    "После ознакомления с данными мы видим, что тут есть над чем поработать. Уже на первой странице таблицы, полученной из кредитного отдела, есть пропуски данных (отсуствующие значения `NaN`), характеристики клиентов занесены и строчным и прописным регистром, отрицательные значения в стаже и т.д. Пора приступать к предобработке."
   ]
  },
  {
   "cell_type": "markdown",
   "id": "60303c3b",
   "metadata": {
    "deletable": false,
    "editable": false,
    "id": "333ec665"
   },
   "source": [
    "## Предобработка данных"
   ]
  },
  {
   "cell_type": "markdown",
   "id": "1de926e1",
   "metadata": {
    "deletable": false,
    "editable": false,
    "id": "02d92d53"
   },
   "source": [
    "### Удаление пропусков"
   ]
  },
  {
   "cell_type": "markdown",
   "id": "96c8eeeb",
   "metadata": {
    "deletable": false,
    "editable": false,
    "id": "cd84967c"
   },
   "source": [
    "**4. Посмотрим количество пропущенных значений для каждого столбца, используя комбинацию двух методов.**"
   ]
  },
  {
   "cell_type": "code",
   "execution_count": 5,
   "id": "11be90a1",
   "metadata": {
    "deletable": false,
    "id": "7f9b2309",
    "outputId": "81f4d817-781c-465c-ed15-91ce4446810d"
   },
   "outputs": [
    {
     "data": {
      "text/plain": [
       "children               0\n",
       "days_employed       2174\n",
       "dob_years              0\n",
       "education              0\n",
       "education_id           0\n",
       "family_status          0\n",
       "family_status_id       0\n",
       "gender                 0\n",
       "income_type            0\n",
       "debt                   0\n",
       "total_income        2174\n",
       "purpose                0\n",
       "dtype: int64"
      ]
     },
     "execution_count": 5,
     "metadata": {},
     "output_type": "execute_result"
    }
   ],
   "source": [
    "data.isna().sum()"
   ]
  },
  {
   "cell_type": "markdown",
   "id": "c981662a",
   "metadata": {
    "deletable": false,
    "editable": false,
    "id": "db86e27b"
   },
   "source": [
    "**Задание 5. В двух столбцах есть пропущенные значения. Один из них — `days_employed`. Пропуски в этом столбце обработаем на следующем этапе. Другой столбец с пропущенными значениями — `total_income` — хранит данные о доходах. На сумму дохода сильнее всего влияет тип занятости, поэтому заполнить пропуски в этом столбце нужно медианным значением по каждому типу из столбца `income_type`. Например, у человека с типом занятости `сотрудник` пропуск в столбце `total_income` должен быть заполнен медианным доходом среди всех записей с тем же типом.**"
   ]
  },
  {
   "cell_type": "code",
   "execution_count": 6,
   "id": "4640fae8",
   "metadata": {
    "deletable": false,
    "id": "42006a93"
   },
   "outputs": [],
   "source": [
    "for t in data['income_type'].unique():\n",
    "    data.loc[(data['income_type'] == t) & (data['total_income'].isna()), 'total_income'] = \\\n",
    "    data.loc[(data['income_type'] == t), 'total_income'].median()"
   ]
  },
  {
   "cell_type": "markdown",
   "id": "86ef0ef6",
   "metadata": {
    "deletable": false,
    "editable": false,
    "id": "89da5ece"
   },
   "source": [
    "### Обработка аномальных значений"
   ]
  },
  {
   "cell_type": "markdown",
   "id": "6d10623f",
   "metadata": {
    "deletable": false,
    "editable": false,
    "id": "57964554"
   },
   "source": [
    "**6. В данных могут встречаться артефакты (аномалии) — значения, которые не отражают действительность и появились по какой-то ошибке. таким артефактом будет отрицательное количество дней трудового стажа в столбце `days_employed`. Для реальных данных это нормально. Обработаем значения в этом столбце: заменим все отрицательные значения положительными с помощью метода `abs()`.**"
   ]
  },
  {
   "cell_type": "code",
   "execution_count": 7,
   "id": "35f572f3",
   "metadata": {
    "deletable": false,
    "id": "f6f055bf"
   },
   "outputs": [],
   "source": [
    "data['days_employed'] = data['days_employed'].abs()"
   ]
  },
  {
   "cell_type": "markdown",
   "id": "398f647c",
   "metadata": {
    "deletable": false,
    "editable": false,
    "id": "6107dd2f"
   },
   "source": [
    "**7. Для каждого типа занятости выведем медианное значение трудового стажа `days_employed` в днях.**"
   ]
  },
  {
   "cell_type": "code",
   "execution_count": 8,
   "id": "fc796d2c",
   "metadata": {
    "deletable": false,
    "id": "85a5faf6",
    "outputId": "801ef80e-522b-4668-f34e-565af7432bcf"
   },
   "outputs": [
    {
     "data": {
      "text/plain": [
       "income_type\n",
       "безработный        366413.652744\n",
       "в декрете            3296.759962\n",
       "госслужащий          2689.368353\n",
       "компаньон            1547.382223\n",
       "пенсионер          365213.306266\n",
       "предприниматель       520.848083\n",
       "сотрудник            1574.202821\n",
       "студент               578.751554\n",
       "Name: days_employed, dtype: float64"
      ]
     },
     "execution_count": 8,
     "metadata": {},
     "output_type": "execute_result"
    }
   ],
   "source": [
    "data.groupby('income_type')['days_employed'].agg('median')"
   ]
  },
  {
   "cell_type": "markdown",
   "id": "89c8f2ac",
   "metadata": {
    "deletable": false,
    "editable": false,
    "id": "38d1a030"
   },
   "source": [
    "У двух типов (безработные и пенсионеры) получатся аномально большие значения. Исправить такие значения сложно, поэтому оставим их как есть. Тем более этот столбец не понадобится для исследования."
   ]
  },
  {
   "cell_type": "markdown",
   "id": "d401e0d3",
   "metadata": {
    "deletable": false,
    "editable": false,
    "id": "d8a9f147"
   },
   "source": [
    "**8. Выведите перечень уникальных значений столбца `children`.**"
   ]
  },
  {
   "cell_type": "code",
   "execution_count": 9,
   "id": "3675b558",
   "metadata": {
    "deletable": false,
    "id": "ef5056eb",
    "outputId": "6975b15c-7f95-4697-d16d-a0c79b657b03"
   },
   "outputs": [
    {
     "data": {
      "text/plain": [
       "array([ 1,  0,  3,  2, -1,  4, 20,  5])"
      ]
     },
     "execution_count": 9,
     "metadata": {},
     "output_type": "execute_result"
    }
   ],
   "source": [
    "data['children'].unique()"
   ]
  },
  {
   "cell_type": "markdown",
   "id": "41df90cc",
   "metadata": {
    "deletable": false,
    "editable": false,
    "id": "40b9ebf2"
   },
   "source": [
    "**9. В столбце `children` есть два аномальных значения. Удалим строки, в которых встречаются такие аномальные значения из датафрейма `data`.**"
   ]
  },
  {
   "cell_type": "code",
   "execution_count": 10,
   "id": "09217d58",
   "metadata": {
    "deletable": false,
    "id": "3ff9801d"
   },
   "outputs": [],
   "source": [
    "data = data[(data['children'] != -1) & (data['children'] != 20)]"
   ]
  },
  {
   "cell_type": "markdown",
   "id": "dd0a28a4",
   "metadata": {
    "deletable": false,
    "editable": false,
    "id": "bbc4d0ce"
   },
   "source": [
    "**10. Ещё раз взглянем на перечень уникальных значений столбца `children`, чтобы убедиться, что артефакты удалены.**"
   ]
  },
  {
   "cell_type": "code",
   "execution_count": 11,
   "id": "c5e4dc54",
   "metadata": {
    "deletable": false,
    "id": "ad4fa8b7",
    "outputId": "b2097101-d49d-44d9-901b-32a65c9463d1"
   },
   "outputs": [
    {
     "data": {
      "text/plain": [
       "array([1, 0, 3, 2, 4, 5])"
      ]
     },
     "execution_count": 11,
     "metadata": {},
     "output_type": "execute_result"
    }
   ],
   "source": [
    "data['children'].unique()"
   ]
  },
  {
   "cell_type": "markdown",
   "id": "8f6a6656",
   "metadata": {
    "deletable": false,
    "editable": false,
    "id": "75440b63"
   },
   "source": [
    "### Удаление пропусков (продолжение)"
   ]
  },
  {
   "cell_type": "markdown",
   "id": "c081714f",
   "metadata": {
    "deletable": false,
    "editable": false,
    "id": "f4ea573f"
   },
   "source": [
    "**11. Заполним пропуски в столбце `days_employed` медианными значениями по каждого типа занятости `income_type`.**"
   ]
  },
  {
   "cell_type": "code",
   "execution_count": 12,
   "id": "d5cb6c1d",
   "metadata": {
    "deletable": false,
    "id": "af6b1a7e"
   },
   "outputs": [],
   "source": [
    "for t in data['income_type'].unique():\n",
    "    data.loc[(data['income_type'] == t) & (data['days_employed'].isna()), 'days_employed'] = \\\n",
    "    data.loc[(data['income_type'] == t), 'days_employed'].median()"
   ]
  },
  {
   "cell_type": "markdown",
   "id": "62f463b0",
   "metadata": {
    "deletable": false,
    "editable": false,
    "id": "2753f40d"
   },
   "source": [
    "**12. Убедимся, что все пропуски заполнены. Проверим себя и ещё раз выведем количество пропущенных значений для каждого столбца с помощью двух методов.**"
   ]
  },
  {
   "cell_type": "code",
   "execution_count": 13,
   "id": "7417da37",
   "metadata": {
    "deletable": false,
    "id": "55f78bc2",
    "outputId": "8da1e4e1-358e-4e87-98c9-f261bce0a7b2"
   },
   "outputs": [
    {
     "data": {
      "text/plain": [
       "children            0\n",
       "days_employed       0\n",
       "dob_years           0\n",
       "education           0\n",
       "education_id        0\n",
       "family_status       0\n",
       "family_status_id    0\n",
       "gender              0\n",
       "income_type         0\n",
       "debt                0\n",
       "total_income        0\n",
       "purpose             0\n",
       "dtype: int64"
      ]
     },
     "execution_count": 13,
     "metadata": {},
     "output_type": "execute_result"
    }
   ],
   "source": [
    "data.isna().sum()"
   ]
  },
  {
   "cell_type": "markdown",
   "id": "240dc870",
   "metadata": {
    "deletable": false,
    "editable": false,
    "id": "ddc81e43"
   },
   "source": [
    "### Изменение типов данных"
   ]
  },
  {
   "cell_type": "markdown",
   "id": "f401347d",
   "metadata": {
    "deletable": false,
    "editable": false,
    "id": "42d19d24"
   },
   "source": [
    "**13. Заменим вещественный тип данных в столбце `total_income` на целочисленный с помощью метода `astype()`.**"
   ]
  },
  {
   "cell_type": "code",
   "execution_count": 14,
   "id": "bb4865e4",
   "metadata": {
    "deletable": false,
    "id": "920b65ad"
   },
   "outputs": [],
   "source": [
    "data['total_income'] = data['total_income'].astype(int)"
   ]
  },
  {
   "cell_type": "markdown",
   "id": "2df9ec79",
   "metadata": {
    "deletable": false,
    "editable": false,
    "id": "80c420ba"
   },
   "source": [
    "### Обработка дубликатов"
   ]
  },
  {
   "cell_type": "markdown",
   "id": "a22a12ae",
   "metadata": {
    "deletable": false,
    "editable": false
   },
   "source": [
    "**14. Обработаем неявные дубликаты в столбце `education`. В этом столбце есть одни и те же значения, но записанные по-разному: с использованием заглавных и строчных букв. Приведем их к нижнему регистру.**"
   ]
  },
  {
   "cell_type": "code",
   "execution_count": 15,
   "id": "d835ac47",
   "metadata": {
    "deletable": false
   },
   "outputs": [],
   "source": [
    "data['education'] = data['education'].str.lower()"
   ]
  },
  {
   "cell_type": "markdown",
   "id": "94f08351",
   "metadata": {
    "deletable": false,
    "editable": false,
    "id": "dc587695"
   },
   "source": [
    "**15. Отобразим на экране количество строк-дубликатов в данных.**"
   ]
  },
  {
   "cell_type": "code",
   "execution_count": 16,
   "id": "7f8f7e65",
   "metadata": {
    "deletable": false,
    "id": "3ee445e4",
    "outputId": "9684deba-1934-42d1-99e1-cda61740f822"
   },
   "outputs": [
    {
     "data": {
      "text/plain": [
       "71"
      ]
     },
     "execution_count": 16,
     "metadata": {},
     "output_type": "execute_result"
    }
   ],
   "source": [
    "data.duplicated().sum()"
   ]
  },
  {
   "cell_type": "code",
   "execution_count": 17,
   "id": "9c5088a9",
   "metadata": {
    "deletable": false,
    "id": "8575fe05"
   },
   "outputs": [],
   "source": [
    "data = data.drop_duplicates()"
   ]
  },
  {
   "cell_type": "markdown",
   "id": "a78bfb8f",
   "metadata": {},
   "source": [
    "После всех этих операций таблица выглядит более \"причесанной\", но главное - готовой для анализа. Мы можем групировать данные, не боясь наткнуться на неявные дубликаты и можем визуализировать зависимости. Но сначала выполним еще один шаг - разобъем важные численные данные на категории, чтобы с ними можно тоже можно было эффективно работать."
   ]
  },
  {
   "cell_type": "markdown",
   "id": "5ea549de",
   "metadata": {
    "deletable": false,
    "editable": false,
    "id": "9904cf55"
   },
   "source": [
    "### Категоризация данных"
   ]
  },
  {
   "cell_type": "markdown",
   "id": "220b1a80",
   "metadata": {
    "deletable": false,
    "editable": false,
    "id": "72fcc8a2"
   },
   "source": [
    "**16. На основании диапазонов, указанных ниже, создадим в датафрейме `data` столбец `total_income_category` с категориями:**\n",
    "\n",
    "- 0–30000 — `'E'`;\n",
    "- 30001–50000 — `'D'`;\n",
    "- 50001–200000 — `'C'`;\n",
    "- 200001–1000000 — `'B'`;\n",
    "- 1000001 и выше — `'A'`.\n",
    "\n",
    "\n",
    "**Например, кредитополучателю с доходом 25000 нужно назначить категорию `'E'`, а клиенту, получающему 235000, — `'B'`. Используем собственную функцию с именем `categorize_income()` и метод `apply()`.**"
   ]
  },
  {
   "cell_type": "code",
   "execution_count": 18,
   "id": "a52f258a",
   "metadata": {
    "deletable": false,
    "id": "e1771346"
   },
   "outputs": [],
   "source": [
    "def categorize_income(income):\n",
    "    try:\n",
    "        if 0 <= income <= 30000:\n",
    "            return 'E'\n",
    "        elif 30001 <= income <= 50000:\n",
    "            return 'D'\n",
    "        elif 50001 <= income <= 200000:\n",
    "            return 'C'\n",
    "        elif 200001 <= income <= 1000000:\n",
    "            return 'B'\n",
    "        elif income >= 1000001:\n",
    "            return 'A'\n",
    "    except:\n",
    "        pass"
   ]
  },
  {
   "cell_type": "code",
   "execution_count": 19,
   "id": "7c0253f7",
   "metadata": {
    "deletable": false,
    "id": "d5f3586d"
   },
   "outputs": [],
   "source": [
    "data['total_income_category'] = data['total_income'].apply(categorize_income)"
   ]
  },
  {
   "cell_type": "markdown",
   "id": "9ac29c65",
   "metadata": {
    "deletable": false,
    "editable": false,
    "id": "dde49b5c"
   },
   "source": [
    "**17. Выведем на экран перечень уникальных целей взятия кредита из столбца `purpose`.**"
   ]
  },
  {
   "cell_type": "code",
   "execution_count": 20,
   "id": "06fd7c35",
   "metadata": {
    "deletable": false,
    "id": "f67ce9b3",
    "outputId": "673c12d9-7d7e-4ae0-9812-c622c89dd244"
   },
   "outputs": [
    {
     "data": {
      "text/plain": [
       "array(['покупка жилья', 'приобретение автомобиля',\n",
       "       'дополнительное образование', 'сыграть свадьбу',\n",
       "       'операции с жильем', 'образование', 'на проведение свадьбы',\n",
       "       'покупка жилья для семьи', 'покупка недвижимости',\n",
       "       'покупка коммерческой недвижимости', 'покупка жилой недвижимости',\n",
       "       'строительство собственной недвижимости', 'недвижимость',\n",
       "       'строительство недвижимости', 'на покупку подержанного автомобиля',\n",
       "       'на покупку своего автомобиля',\n",
       "       'операции с коммерческой недвижимостью',\n",
       "       'строительство жилой недвижимости', 'жилье',\n",
       "       'операции со своей недвижимостью', 'автомобили',\n",
       "       'заняться образованием', 'сделка с подержанным автомобилем',\n",
       "       'получение образования', 'автомобиль', 'свадьба',\n",
       "       'получение дополнительного образования', 'покупка своего жилья',\n",
       "       'операции с недвижимостью', 'получение высшего образования',\n",
       "       'свой автомобиль', 'сделка с автомобилем',\n",
       "       'профильное образование', 'высшее образование',\n",
       "       'покупка жилья для сдачи', 'на покупку автомобиля', 'ремонт жилью',\n",
       "       'заняться высшим образованием'], dtype=object)"
      ]
     },
     "execution_count": 20,
     "metadata": {},
     "output_type": "execute_result"
    }
   ],
   "source": [
    "data['purpose'].unique()"
   ]
  },
  {
   "cell_type": "markdown",
   "id": "56f274d2",
   "metadata": {
    "deletable": false,
    "editable": false,
    "id": "85d0aef0"
   },
   "source": [
    "**18. Создадим функцию, которая на основании данных из столбца `purpose` сформирует новый столбец `purpose_category`, в который войдут следующие категории:**\n",
    "\n",
    "- `'операции с автомобилем'`,\n",
    "- `'операции с недвижимостью'`,\n",
    "- `'проведение свадьбы'`,\n",
    "- `'получение образования'`.\n",
    "\n",
    "**Например, если в столбце `purpose` находится подстрока `'на покупку автомобиля'`, то в столбце `purpose_category` должна появиться строка `'операции с автомобилем'`.**\n",
    "\n",
    "**Будем использовать собственную функцию с именем `categorize_purpose()` и метод `apply()`. Изучим данные в столбце `purpose` и определим, какие подстроки помогут нам правильно определить категорию.**"
   ]
  },
  {
   "cell_type": "code",
   "execution_count": 21,
   "id": "3a968e0c",
   "metadata": {
    "deletable": false,
    "id": "e149fab4"
   },
   "outputs": [],
   "source": [
    "def categorize_purpose(row):\n",
    "    try:\n",
    "        if 'автом' in row:\n",
    "            return 'операции с автомобилем'\n",
    "        elif 'жил' in row or 'недвиж' in row:\n",
    "            return 'операции с недвижимостью'\n",
    "        elif 'свад' in row:\n",
    "            return 'проведение свадьбы'\n",
    "        elif 'образов' in row:\n",
    "            return 'получение образования'\n",
    "    except:\n",
    "        return 'нет категории'"
   ]
  },
  {
   "cell_type": "code",
   "execution_count": 22,
   "id": "0d7b4d1b",
   "metadata": {
    "deletable": false,
    "id": "bf36e69b"
   },
   "outputs": [],
   "source": [
    "data['purpose_category'] = data['purpose'].apply(categorize_purpose)"
   ]
  },
  {
   "cell_type": "markdown",
   "id": "4cb0d600",
   "metadata": {},
   "source": [
    "Теперь у нас есть все необходимые категории для анализа и обобщения результатов."
   ]
  },
  {
   "cell_type": "markdown",
   "id": "0cc83c94",
   "metadata": {
    "deletable": false,
    "editable": false,
    "id": "09b242bf"
   },
   "source": [
    "### Шаг 3. Исследуем данные и отвечаем на вопросы"
   ]
  },
  {
   "cell_type": "markdown",
   "id": "186a8f80",
   "metadata": {
    "deletable": false,
    "editable": false,
    "id": "c5d66278"
   },
   "source": [
    "#### 3.1 Есть ли зависимость между количеством детей и возвратом кредита в срок?"
   ]
  },
  {
   "cell_type": "code",
   "execution_count": 23,
   "id": "d9dfa89c",
   "metadata": {
    "deletable": false,
    "id": "2cacfc4a"
   },
   "outputs": [
    {
     "data": {
      "text/plain": [
       "children  debt\n",
       "0         0       13028\n",
       "          1        1063\n",
       "1         0        4364\n",
       "          1         444\n",
       "2         0        1858\n",
       "          1         194\n",
       "3         0         303\n",
       "          1          27\n",
       "4         0          37\n",
       "          1           4\n",
       "5         0           9\n",
       "Name: children, dtype: int64"
      ]
     },
     "metadata": {},
     "output_type": "display_data"
    }
   ],
   "source": [
    "# Проверим данные обычной группировкой\n",
    "#print(data.groupby(['debt', 'children'])['debt'].count())\n",
    "children_vs_debt = data.groupby(['children', 'debt'])['children'].count()\n",
    "display(children_vs_debt)\n",
    "# Цифры выглядят адекватно, признаков аномалий нет, но в данном случае трудно провести анализ по абсолютным значениям.\n"
   ]
  },
  {
   "cell_type": "code",
   "execution_count": 24,
   "id": "ab1f0c71",
   "metadata": {},
   "outputs": [
    {
     "data": {
      "text/html": [
       "<style  type=\"text/css\" >\n",
       "</style><table id=\"T_31af2_\" ><thead>    <tr>        <th class=\"blank level0\" ></th>        <th class=\"col_heading level0 col0\" >count</th>        <th class=\"col_heading level0 col1\" >sum</th>        <th class=\"col_heading level0 col2\" >mean</th>    </tr>    <tr>        <th class=\"blank level1\" ></th>        <th class=\"col_heading level1 col0\" >debt</th>        <th class=\"col_heading level1 col1\" >debt</th>        <th class=\"col_heading level1 col2\" >debt</th>    </tr>    <tr>        <th class=\"index_name level0\" >children</th>        <th class=\"blank\" ></th>        <th class=\"blank\" ></th>        <th class=\"blank\" ></th>    </tr></thead><tbody>\n",
       "                <tr>\n",
       "                        <th id=\"T_31af2_level0_row0\" class=\"row_heading level0 row0\" >4</th>\n",
       "                        <td id=\"T_31af2_row0_col0\" class=\"data row0 col0\" >41</td>\n",
       "                        <td id=\"T_31af2_row0_col1\" class=\"data row0 col1\" >4</td>\n",
       "                        <td id=\"T_31af2_row0_col2\" class=\"data row0 col2\" >9.76%</td>\n",
       "            </tr>\n",
       "            <tr>\n",
       "                        <th id=\"T_31af2_level0_row1\" class=\"row_heading level0 row1\" >2</th>\n",
       "                        <td id=\"T_31af2_row1_col0\" class=\"data row1 col0\" >2052</td>\n",
       "                        <td id=\"T_31af2_row1_col1\" class=\"data row1 col1\" >194</td>\n",
       "                        <td id=\"T_31af2_row1_col2\" class=\"data row1 col2\" >9.45%</td>\n",
       "            </tr>\n",
       "            <tr>\n",
       "                        <th id=\"T_31af2_level0_row2\" class=\"row_heading level0 row2\" >1</th>\n",
       "                        <td id=\"T_31af2_row2_col0\" class=\"data row2 col0\" >4808</td>\n",
       "                        <td id=\"T_31af2_row2_col1\" class=\"data row2 col1\" >444</td>\n",
       "                        <td id=\"T_31af2_row2_col2\" class=\"data row2 col2\" >9.23%</td>\n",
       "            </tr>\n",
       "            <tr>\n",
       "                        <th id=\"T_31af2_level0_row3\" class=\"row_heading level0 row3\" >3</th>\n",
       "                        <td id=\"T_31af2_row3_col0\" class=\"data row3 col0\" >330</td>\n",
       "                        <td id=\"T_31af2_row3_col1\" class=\"data row3 col1\" >27</td>\n",
       "                        <td id=\"T_31af2_row3_col2\" class=\"data row3 col2\" >8.18%</td>\n",
       "            </tr>\n",
       "            <tr>\n",
       "                        <th id=\"T_31af2_level0_row4\" class=\"row_heading level0 row4\" >0</th>\n",
       "                        <td id=\"T_31af2_row4_col0\" class=\"data row4 col0\" >14091</td>\n",
       "                        <td id=\"T_31af2_row4_col1\" class=\"data row4 col1\" >1063</td>\n",
       "                        <td id=\"T_31af2_row4_col2\" class=\"data row4 col2\" >7.54%</td>\n",
       "            </tr>\n",
       "            <tr>\n",
       "                        <th id=\"T_31af2_level0_row5\" class=\"row_heading level0 row5\" >5</th>\n",
       "                        <td id=\"T_31af2_row5_col0\" class=\"data row5 col0\" >9</td>\n",
       "                        <td id=\"T_31af2_row5_col1\" class=\"data row5 col1\" >0</td>\n",
       "                        <td id=\"T_31af2_row5_col2\" class=\"data row5 col2\" >0.00%</td>\n",
       "            </tr>\n",
       "    </tbody></table>"
      ],
      "text/plain": [
       "<pandas.io.formats.style.Styler at 0x7f1bccd50ac0>"
      ]
     },
     "execution_count": 24,
     "metadata": {},
     "output_type": "execute_result"
    }
   ],
   "source": [
    "# Переведем эти данные в проценты.\n",
    "data.pivot_table(index = 'children', values = 'debt', aggfunc = ['count', 'sum', 'mean'])\\\n",
    "    .sort_values(by = ('mean', 'debt'), ascending = False)\\\n",
    "    .style.format({('mean', 'debt') : '{:.2%}'})"
   ]
  },
  {
   "cell_type": "code",
   "execution_count": 25,
   "id": "b923a102",
   "metadata": {},
   "outputs": [
    {
     "data": {
      "image/png": "[encoded data removed]",
      "text/plain": [
       "<Figure size 432x288 with 1 Axes>"
      ]
     },
     "metadata": {
      "needs_background": "light"
     },
     "output_type": "display_data"
    }
   ],
   "source": [
    "# Создадим переменные, которые будем наполнять.\n",
    "ratio = 0\n",
    "ratio_list = []\n",
    "x_axis = []\n",
    "\n",
    "# Циклом пройдемся по значениями и посчитаем соотношение\n",
    "for index, value in children_vs_debt.items():\n",
    "    if index[1] == 0:\n",
    "        ratio = value\n",
    "    else:\n",
    "        ratio = value / ratio * 100 # Определяем процент не платящих в срок по сравнению с добросовестными кредиторами \n",
    "        ratio_list.append(ratio)\n",
    "        x_axis.append(index[0])\n",
    "        \n",
    "# Последнюю строчку добавляем вручную, так как семей последнего типа с просрочками нет в датасете\n",
    "ratio = 0 / ratio * 100\n",
    "ratio_list.append(ratio)\n",
    "x_axis.append(5)      \n",
    "        \n",
    "#print(ratio_list)\n",
    "sns = seaborn.barplot(y=ratio_list, x=x_axis)\n",
    "plt.xlabel(\"Кол-во детей\")\n",
    "plt.ylabel(\"% невозврата в срок\")\n",
    "plt.show(sns)\n"
   ]
  },
  {
   "cell_type": "markdown",
   "id": "c385cd0c",
   "metadata": {
    "deletable": false,
    "id": "3a6b99ec"
   },
   "source": [
    "**Вывод:** \n",
    "Сгруппировав имеющиеся данные по количеству детей, и далее по факту просрочки, получаем, что процент невозвращаемых в срок кредитов колеблется от 8% до 11%. \n",
    "\n",
    "По факту, просрочки платежей меньше всего у заемщиков, которые не имеют детей, и больше всего у семей с 4 детьми. Но единой тенденции не прослеживается. Например в семьях с тремя детьми просрочек меньше, чем у семей с двумя или тремя детьми. В семьях с пятью детьми просрочек, по имеющимся данным, вообще не обнаружено. Скорее всего из-за того, что таких семей немного, и фактов займа почти нет.\n",
    "\n",
    "Можно сделать общий вывод, что семьи, которые не имеют детей, являются более надежными заемщиками, и имеют большую вероятность возращения взятого кредита в срок."
   ]
  },
  {
   "cell_type": "markdown",
   "id": "c044f6d2",
   "metadata": {
    "deletable": false,
    "editable": false,
    "id": "97be82ca"
   },
   "source": [
    "#### 3.2 Есть ли зависимость между семейным положением и возвратом кредита в срок?"
   ]
  },
  {
   "cell_type": "code",
   "execution_count": 26,
   "id": "e3e0dee7",
   "metadata": {
    "deletable": false,
    "id": "dc3f7ee8"
   },
   "outputs": [
    {
     "name": "stdout",
     "output_type": "stream",
     "text": [
      "['женат / замужем' 'гражданский брак' 'вдовец / вдова' 'в разводе'\n",
      " 'Не женат / не замужем']\n",
      "\n",
      "family_status\n",
      "Не женат / не замужем     2796\n",
      "в разводе                 1189\n",
      "вдовец / вдова             951\n",
      "гражданский брак          4134\n",
      "женат / замужем          12261\n",
      "Name: debt, dtype: int64\n",
      "\n",
      "family_status\n",
      "Не женат / не замужем    273\n",
      "в разводе                 84\n",
      "вдовец / вдова            63\n",
      "гражданский брак         385\n",
      "женат / замужем          927\n",
      "Name: debt, dtype: int64\n",
      "\n",
      "family_status\n",
      "вдовец / вдова           6.624606\n",
      "в разводе                7.064760\n",
      "женат / замужем          7.560558\n",
      "гражданский брак         9.313014\n",
      "Не женат / не замужем    9.763948\n",
      "Name: debt, dtype: float64\n"
     ]
    }
   ],
   "source": [
    "# Смотрим, что это вообще за категории\n",
    "print(data['family_status'].unique())\n",
    "print()\n",
    "# Задача похожа на предыдущую, но для разнообразия чуть изменим подход.\n",
    "# Какова мощность (кол-во строк) в каждой категории\n",
    "family_status_total = data.groupby('family_status')['debt'].count()\n",
    "print(family_status_total)\n",
    "print()\n",
    "# Сложим единички в колонке 'debt', чтобы определить кол-во просрочек\n",
    "family_status_debt = data.groupby('family_status')['debt'].sum()\n",
    "print(family_status_debt)\n",
    "print()\n",
    "family_status_vs_debt = family_status_debt / family_status_total * 100\n",
    "# Упорядочим по возрастанию\n",
    "family_status_vs_debt = family_status_vs_debt.sort_values()\n",
    "print(family_status_vs_debt)\n"
   ]
  },
  {
   "cell_type": "code",
   "execution_count": 27,
   "id": "1b6d4be7",
   "metadata": {},
   "outputs": [
    {
     "data": {
      "text/html": [
       "<style  type=\"text/css\" >\n",
       "</style><table id=\"T_2b33f_\" ><thead>    <tr>        <th class=\"blank level0\" ></th>        <th class=\"col_heading level0 col0\" >count</th>        <th class=\"col_heading level0 col1\" >sum</th>        <th class=\"col_heading level0 col2\" >mean</th>    </tr>    <tr>        <th class=\"blank level1\" ></th>        <th class=\"col_heading level1 col0\" >debt</th>        <th class=\"col_heading level1 col1\" >debt</th>        <th class=\"col_heading level1 col2\" >debt</th>    </tr>    <tr>        <th class=\"index_name level0\" >family_status</th>        <th class=\"blank\" ></th>        <th class=\"blank\" ></th>        <th class=\"blank\" ></th>    </tr></thead><tbody>\n",
       "                <tr>\n",
       "                        <th id=\"T_2b33f_level0_row0\" class=\"row_heading level0 row0\" >Не женат / не замужем</th>\n",
       "                        <td id=\"T_2b33f_row0_col0\" class=\"data row0 col0\" >2796</td>\n",
       "                        <td id=\"T_2b33f_row0_col1\" class=\"data row0 col1\" >273</td>\n",
       "                        <td id=\"T_2b33f_row0_col2\" class=\"data row0 col2\" >9.76%</td>\n",
       "            </tr>\n",
       "            <tr>\n",
       "                        <th id=\"T_2b33f_level0_row1\" class=\"row_heading level0 row1\" >гражданский брак</th>\n",
       "                        <td id=\"T_2b33f_row1_col0\" class=\"data row1 col0\" >4134</td>\n",
       "                        <td id=\"T_2b33f_row1_col1\" class=\"data row1 col1\" >385</td>\n",
       "                        <td id=\"T_2b33f_row1_col2\" class=\"data row1 col2\" >9.31%</td>\n",
       "            </tr>\n",
       "            <tr>\n",
       "                        <th id=\"T_2b33f_level0_row2\" class=\"row_heading level0 row2\" >женат / замужем</th>\n",
       "                        <td id=\"T_2b33f_row2_col0\" class=\"data row2 col0\" >12261</td>\n",
       "                        <td id=\"T_2b33f_row2_col1\" class=\"data row2 col1\" >927</td>\n",
       "                        <td id=\"T_2b33f_row2_col2\" class=\"data row2 col2\" >7.56%</td>\n",
       "            </tr>\n",
       "            <tr>\n",
       "                        <th id=\"T_2b33f_level0_row3\" class=\"row_heading level0 row3\" >в разводе</th>\n",
       "                        <td id=\"T_2b33f_row3_col0\" class=\"data row3 col0\" >1189</td>\n",
       "                        <td id=\"T_2b33f_row3_col1\" class=\"data row3 col1\" >84</td>\n",
       "                        <td id=\"T_2b33f_row3_col2\" class=\"data row3 col2\" >7.06%</td>\n",
       "            </tr>\n",
       "            <tr>\n",
       "                        <th id=\"T_2b33f_level0_row4\" class=\"row_heading level0 row4\" >вдовец / вдова</th>\n",
       "                        <td id=\"T_2b33f_row4_col0\" class=\"data row4 col0\" >951</td>\n",
       "                        <td id=\"T_2b33f_row4_col1\" class=\"data row4 col1\" >63</td>\n",
       "                        <td id=\"T_2b33f_row4_col2\" class=\"data row4 col2\" >6.62%</td>\n",
       "            </tr>\n",
       "    </tbody></table>"
      ],
      "text/plain": [
       "<pandas.io.formats.style.Styler at 0x7f1bccd50c70>"
      ]
     },
     "execution_count": 27,
     "metadata": {},
     "output_type": "execute_result"
    }
   ],
   "source": [
    "# Картина вырисовывается, давайте сделаем своднюу таблицу для наглядности\n",
    "data.pivot_table(index = 'family_status', values = 'debt', aggfunc = ['count', 'sum', 'mean'])\\\n",
    "    .sort_values(by = ('mean', 'debt'), ascending = False)\\\n",
    "    .style.format({('mean', 'debt') : '{:.2%}'})\n"
   ]
  },
  {
   "cell_type": "code",
   "execution_count": 28,
   "id": "649b90af",
   "metadata": {},
   "outputs": [
    {
     "name": "stdout",
     "output_type": "stream",
     "text": [
      "['вдовец / вдова', 'в разводе', 'женат / замужем', 'гражданский брак', 'Не женат / не замужем']\n"
     ]
    },
    {
     "data": {
      "image/png": "[encoded data removed]",
      "text/plain": [
       "<Figure size 432x288 with 1 Axes>"
      ]
     },
     "metadata": {
      "needs_background": "light"
     },
     "output_type": "display_data"
    }
   ],
   "source": [
    "# Визуализируем\n",
    "\n",
    "# Сначала создадим ось Х\n",
    "x_axis = family_status_vs_debt.index.tolist()\n",
    "print(x_axis)\n",
    "# Да, в таком формате seaborn сможет понять эту ось.\n",
    "\n",
    "sns = seaborn.barplot(y=x_axis, x=family_status_vs_debt.values)\n",
    "plt.xlabel('% просрочки')\n",
    "plt.ylabel('Семейное положение')\n",
    "plt.show(sns)\n"
   ]
  },
  {
   "cell_type": "markdown",
   "id": "2738ca03",
   "metadata": {
    "deletable": false,
    "id": "1cef7837"
   },
   "source": [
    "**Вывод:** \n",
    "Проанализировав эту часть, видно, что самые ненадежные заемщики - это люди ранее никогда не состоящие в браке. Чуть более надежные - люди, состоящие в гражданском браке. Самые надежные заемщики - это вдовцы/вдовы и люди в разводе.\n",
    "\n",
    "В общем, с разницей в 0.5% - 2% можно проследить некоторую зависимость семейного положения и вероятности возврата кредита в срок"
   ]
  },
  {
   "cell_type": "markdown",
   "id": "9c7e75b6",
   "metadata": {
    "deletable": false,
    "editable": false,
    "id": "1e8b2fca"
   },
   "source": [
    "#### 3.3 Есть ли зависимость между уровнем дохода и возвратом кредита в срок?"
   ]
  },
  {
   "cell_type": "code",
   "execution_count": 29,
   "id": "74a2c5c7",
   "metadata": {
    "deletable": false,
    "id": "cd7e3720"
   },
   "outputs": [
    {
     "data": {
      "text/html": [
       "<div>\n",
       "<style scoped>\n",
       "    .dataframe tbody tr th:only-of-type {\n",
       "        vertical-align: middle;\n",
       "    }\n",
       "\n",
       "    .dataframe tbody tr th {\n",
       "        vertical-align: top;\n",
       "    }\n",
       "\n",
       "    .dataframe thead th {\n",
       "        text-align: right;\n",
       "    }\n",
       "</style>\n",
       "<table border=\"1\" class=\"dataframe\">\n",
       "  <thead>\n",
       "    <tr style=\"text-align: right;\">\n",
       "      <th>debt</th>\n",
       "      <th>category_explain</th>\n",
       "      <th>0</th>\n",
       "      <th>1</th>\n",
       "      <th>percent</th>\n",
       "    </tr>\n",
       "    <tr>\n",
       "      <th>total_income_category</th>\n",
       "      <th></th>\n",
       "      <th></th>\n",
       "      <th></th>\n",
       "      <th></th>\n",
       "    </tr>\n",
       "  </thead>\n",
       "  <tbody>\n",
       "    <tr>\n",
       "      <th>A</th>\n",
       "      <td>&gt; 1 000 000</td>\n",
       "      <td>23</td>\n",
       "      <td>2</td>\n",
       "      <td>8.695652</td>\n",
       "    </tr>\n",
       "    <tr>\n",
       "      <th>B</th>\n",
       "      <td>200 000 - 1 000 000</td>\n",
       "      <td>4660</td>\n",
       "      <td>354</td>\n",
       "      <td>7.596567</td>\n",
       "    </tr>\n",
       "    <tr>\n",
       "      <th>C</th>\n",
       "      <td>50 000 - 200 000</td>\n",
       "      <td>14568</td>\n",
       "      <td>1353</td>\n",
       "      <td>9.287479</td>\n",
       "    </tr>\n",
       "    <tr>\n",
       "      <th>D</th>\n",
       "      <td>30 000 - 50 000</td>\n",
       "      <td>328</td>\n",
       "      <td>21</td>\n",
       "      <td>6.402439</td>\n",
       "    </tr>\n",
       "    <tr>\n",
       "      <th>E</th>\n",
       "      <td>&lt; 30 000</td>\n",
       "      <td>20</td>\n",
       "      <td>2</td>\n",
       "      <td>10.000000</td>\n",
       "    </tr>\n",
       "  </tbody>\n",
       "</table>\n",
       "</div>"
      ],
      "text/plain": [
       "debt                      category_explain      0     1    percent\n",
       "total_income_category                                             \n",
       "A                              > 1 000 000     23     2   8.695652\n",
       "B                      200 000 - 1 000 000   4660   354   7.596567\n",
       "C                         50 000 - 200 000  14568  1353   9.287479\n",
       "D                          30 000 - 50 000    328    21   6.402439\n",
       "E                                 < 30 000     20     2  10.000000"
      ]
     },
     "metadata": {},
     "output_type": "display_data"
    }
   ],
   "source": [
    "# Задача схожая в предыдущей, но мы снова внесем чуть новизны: попробуем другой изученный инструмент - pivot_table\n",
    "income_vs_debt_count = data.pivot_table(index=['total_income_category'], columns=['debt'], values='total_income', aggfunc='count' )\n",
    "income_vs_debt_count['percent'] = income_vs_debt_count[1] / income_vs_debt_count[0] * 100\n",
    "# Добавим расшифровку категорий для большей наглядности\n",
    "category_explain = ['> 1 000 000', '200 000 - 1 000 000', '50 000 - 200 000', '30 000 - 50 000', '< 30 000']\n",
    "income_vs_debt_count.insert(loc=0, column='category_explain', value=category_explain)\n",
    "display(income_vs_debt_count)"
   ]
  },
  {
   "cell_type": "code",
   "execution_count": 30,
   "id": "c42294e4",
   "metadata": {},
   "outputs": [
    {
     "data": {
      "text/html": [
       "<div>\n",
       "<style scoped>\n",
       "    .dataframe tbody tr th:only-of-type {\n",
       "        vertical-align: middle;\n",
       "    }\n",
       "\n",
       "    .dataframe tbody tr th {\n",
       "        vertical-align: top;\n",
       "    }\n",
       "\n",
       "    .dataframe thead th {\n",
       "        text-align: right;\n",
       "    }\n",
       "</style>\n",
       "<table border=\"1\" class=\"dataframe\">\n",
       "  <thead>\n",
       "    <tr style=\"text-align: right;\">\n",
       "      <th>debt</th>\n",
       "      <th>category_explain</th>\n",
       "      <th>0</th>\n",
       "      <th>1</th>\n",
       "      <th>percent</th>\n",
       "    </tr>\n",
       "    <tr>\n",
       "      <th>total_income_category</th>\n",
       "      <th></th>\n",
       "      <th></th>\n",
       "      <th></th>\n",
       "      <th></th>\n",
       "    </tr>\n",
       "  </thead>\n",
       "  <tbody>\n",
       "    <tr>\n",
       "      <th>A</th>\n",
       "      <td>&gt; 1 000 000</td>\n",
       "      <td>30246198</td>\n",
       "      <td>3231751</td>\n",
       "      <td>10.684817</td>\n",
       "    </tr>\n",
       "    <tr>\n",
       "      <th>B</th>\n",
       "      <td>200 000 - 1 000 000</td>\n",
       "      <td>1336996578</td>\n",
       "      <td>100230192</td>\n",
       "      <td>7.496668</td>\n",
       "    </tr>\n",
       "    <tr>\n",
       "      <th>C</th>\n",
       "      <td>50 000 - 200 000</td>\n",
       "      <td>1865970560</td>\n",
       "      <td>174704112</td>\n",
       "      <td>9.362640</td>\n",
       "    </tr>\n",
       "    <tr>\n",
       "      <th>D</th>\n",
       "      <td>30 000 - 50 000</td>\n",
       "      <td>14079362</td>\n",
       "      <td>899871</td>\n",
       "      <td>6.391419</td>\n",
       "    </tr>\n",
       "    <tr>\n",
       "      <th>E</th>\n",
       "      <td>&lt; 30 000</td>\n",
       "      <td>517665</td>\n",
       "      <td>49821</td>\n",
       "      <td>9.624178</td>\n",
       "    </tr>\n",
       "  </tbody>\n",
       "</table>\n",
       "</div>"
      ],
      "text/plain": [
       "debt                      category_explain           0          1    percent\n",
       "total_income_category                                                       \n",
       "A                              > 1 000 000    30246198    3231751  10.684817\n",
       "B                      200 000 - 1 000 000  1336996578  100230192   7.496668\n",
       "C                         50 000 - 200 000  1865970560  174704112   9.362640\n",
       "D                          30 000 - 50 000    14079362     899871   6.391419\n",
       "E                                 < 30 000      517665      49821   9.624178"
      ]
     },
     "metadata": {},
     "output_type": "display_data"
    }
   ],
   "source": [
    "# Тут у меня возникла гипотеза: проценты - процентами, а ведь с абсолютных значениях картина может чуть отличаться. \n",
    "# Пусть по мелким займам будет больший процент невозврата или просрочки, но если все крупные займы возвращаются в срок\n",
    "# то банк может не обращать слишком уж пристального внимания на мелкие и все равно оставаться в хорошем плюсе.\n",
    "# Проверим эту гипотезу.\n",
    "income_vs_debt_sum = data.pivot_table(index=['total_income_category'], columns=['debt'], values='total_income', aggfunc='sum' )\n",
    "income_vs_debt_sum['percent'] = income_vs_debt_sum[1] / income_vs_debt_sum[0] * 100\n",
    "# Добавим расшифровку категорий для большей наглядности\n",
    "income_vs_debt_sum.insert(loc=0, column='category_explain', value=category_explain)\n",
    "display(income_vs_debt_sum)"
   ]
  },
  {
   "cell_type": "code",
   "execution_count": 31,
   "id": "bed33d08",
   "metadata": {},
   "outputs": [
    {
     "data": {
      "text/plain": [
       "total_income_category\n",
       "A    1.228754\n",
       "B    0.986849\n",
       "C    1.008093\n",
       "D    0.998279\n",
       "E    0.962418\n",
       "dtype: float64"
      ]
     },
     "metadata": {},
     "output_type": "display_data"
    },
    {
     "data": {
      "image/png": "[encoded data removed]",
      "text/plain": [
       "<Figure size 432x288 with 1 Axes>"
      ]
     },
     "metadata": {
      "needs_background": "light"
     },
     "output_type": "display_data"
    }
   ],
   "source": [
    "# Да, картина чуть поменялась. Чтобы сравнить, соотношение просрочек и соотношение доходов, и посмотрим их взаимосвязь\n",
    "\n",
    "income_vs_debt_overdue = income_vs_debt_sum[1] / income_vs_debt_count[1]\n",
    "income_vs_debt_intime = income_vs_debt_sum[0] / income_vs_debt_count[0]\n",
    "\n",
    "income_vs_debt = income_vs_debt_overdue / income_vs_debt_intime\n",
    "display(income_vs_debt)\n",
    "\n",
    "income_vs_debt = income_vs_debt.sort_values()\n",
    "\n",
    "# Посмотрим на диаграмме\n",
    "\n",
    "sns = seaborn.barplot(y=income_vs_debt.values, x=income_vs_debt.index.to_list())\n",
    "plt.xlabel('Категории дохода')\n",
    "plt.ylabel('доля просрочек по кредитам')\n",
    "plt.show(sns)\n"
   ]
  },
  {
   "cell_type": "markdown",
   "id": "e6c291f8",
   "metadata": {
    "deletable": false,
    "id": "e8593def"
   },
   "source": [
    "**Вывод:** \n",
    "Единая динамика зависимости уровня дохода и возврат кредита в срок не прослеживается, однако можно выявить крайние (максимальные и минимальные) значения и сделать определенные выводы. Самыми надежными заемщиками являются люди со средним доходом (30 000 - 50 000 р). Просрочки у этой категории заемщиков составляют порядка 6.5%.\n",
    "\n",
    "Давайте так же взглянем на наиболее распространенные категории заемщиков: \"B\" и \"C\". Из вышеприведенной сводной таблицы видно, что в денежном выражении на эти две категории приходится наиболее количество выданных кредитов. Между этими двумя категориями самый большой разрыв - почти 2%! Это говорит нам о том, что категория заемщиков \"B\" с доходом от 200 000 до 1 000 000 р вторая по надежности. \n",
    "\n",
    "Получается, что при выдачи кредитов, категория \"C\" должна проверятся намного тщательнее, чем \"D\" и \"B\"\n",
    "\n",
    "Наибольшее кол-во просрочек наблюдается у категории \"E\" с доходом до 30 000 р. и ниже.\n",
    "\n",
    "Дополнительно, если мы посмотрим на просрочки по кредитам в абсолютных значениях, категория заемщиков с доходом ниже 30 000 р. значительно уступает категории \"А\" - заемщики с доходом выше миллиона, так как в абсолютных значениях заемщики категории E берут небольшие кредиты. Категория А резко выделяется по просрочкам в абсолютных значениях, что означает, что банк недополучает вовремя крупные суммы, и обслуживание кредитов категории А для банка является самым затратным."
   ]
  },
  {
   "cell_type": "code",
   "execution_count": 32,
   "id": "460e6315",
   "metadata": {},
   "outputs": [
    {
     "data": {
      "text/html": [
       "<style  type=\"text/css\" >\n",
       "</style><table id=\"T_e3dd4_\" ><thead>    <tr>        <th class=\"blank level0\" ></th>        <th class=\"col_heading level0 col0\" >count</th>        <th class=\"col_heading level0 col1\" >sum</th>        <th class=\"col_heading level0 col2\" >mean</th>    </tr>    <tr>        <th class=\"blank level1\" ></th>        <th class=\"col_heading level1 col0\" >debt</th>        <th class=\"col_heading level1 col1\" >debt</th>        <th class=\"col_heading level1 col2\" >debt</th>    </tr>    <tr>        <th class=\"index_name level0\" >total_income_category</th>        <th class=\"blank\" ></th>        <th class=\"blank\" ></th>        <th class=\"blank\" ></th>    </tr></thead><tbody>\n",
       "                <tr>\n",
       "                        <th id=\"T_e3dd4_level0_row0\" class=\"row_heading level0 row0\" >E</th>\n",
       "                        <td id=\"T_e3dd4_row0_col0\" class=\"data row0 col0\" >22</td>\n",
       "                        <td id=\"T_e3dd4_row0_col1\" class=\"data row0 col1\" >2</td>\n",
       "                        <td id=\"T_e3dd4_row0_col2\" class=\"data row0 col2\" >9.09%</td>\n",
       "            </tr>\n",
       "            <tr>\n",
       "                        <th id=\"T_e3dd4_level0_row1\" class=\"row_heading level0 row1\" >C</th>\n",
       "                        <td id=\"T_e3dd4_row1_col0\" class=\"data row1 col0\" >15921</td>\n",
       "                        <td id=\"T_e3dd4_row1_col1\" class=\"data row1 col1\" >1353</td>\n",
       "                        <td id=\"T_e3dd4_row1_col2\" class=\"data row1 col2\" >8.50%</td>\n",
       "            </tr>\n",
       "            <tr>\n",
       "                        <th id=\"T_e3dd4_level0_row2\" class=\"row_heading level0 row2\" >A</th>\n",
       "                        <td id=\"T_e3dd4_row2_col0\" class=\"data row2 col0\" >25</td>\n",
       "                        <td id=\"T_e3dd4_row2_col1\" class=\"data row2 col1\" >2</td>\n",
       "                        <td id=\"T_e3dd4_row2_col2\" class=\"data row2 col2\" >8.00%</td>\n",
       "            </tr>\n",
       "            <tr>\n",
       "                        <th id=\"T_e3dd4_level0_row3\" class=\"row_heading level0 row3\" >B</th>\n",
       "                        <td id=\"T_e3dd4_row3_col0\" class=\"data row3 col0\" >5014</td>\n",
       "                        <td id=\"T_e3dd4_row3_col1\" class=\"data row3 col1\" >354</td>\n",
       "                        <td id=\"T_e3dd4_row3_col2\" class=\"data row3 col2\" >7.06%</td>\n",
       "            </tr>\n",
       "            <tr>\n",
       "                        <th id=\"T_e3dd4_level0_row4\" class=\"row_heading level0 row4\" >D</th>\n",
       "                        <td id=\"T_e3dd4_row4_col0\" class=\"data row4 col0\" >349</td>\n",
       "                        <td id=\"T_e3dd4_row4_col1\" class=\"data row4 col1\" >21</td>\n",
       "                        <td id=\"T_e3dd4_row4_col2\" class=\"data row4 col2\" >6.02%</td>\n",
       "            </tr>\n",
       "    </tbody></table>"
      ],
      "text/plain": [
       "<pandas.io.formats.style.Styler at 0x7f1bbff64c40>"
      ]
     },
     "execution_count": 32,
     "metadata": {},
     "output_type": "execute_result"
    }
   ],
   "source": [
    "data.pivot_table(index = 'total_income_category', values = 'debt', aggfunc = ['count', 'sum', 'mean'])\\\n",
    "    .sort_values(by = ('mean', 'debt'), ascending = False)\\\n",
    "    .style.format({('mean', 'debt') : '{:.2%}'})"
   ]
  },
  {
   "cell_type": "markdown",
   "id": "a827da7b",
   "metadata": {
    "deletable": false,
    "editable": false,
    "id": "99ecbd1f"
   },
   "source": [
    "#### 3.4 Как разные цели кредита влияют на его возврат в срок?"
   ]
  },
  {
   "cell_type": "code",
   "execution_count": 33,
   "id": "4f8db452",
   "metadata": {
    "deletable": false,
    "id": "2b687290"
   },
   "outputs": [
    {
     "data": {
      "text/html": [
       "<div>\n",
       "<style scoped>\n",
       "    .dataframe tbody tr th:only-of-type {\n",
       "        vertical-align: middle;\n",
       "    }\n",
       "\n",
       "    .dataframe tbody tr th {\n",
       "        vertical-align: top;\n",
       "    }\n",
       "\n",
       "    .dataframe thead tr th {\n",
       "        text-align: left;\n",
       "    }\n",
       "\n",
       "    .dataframe thead tr:last-of-type th {\n",
       "        text-align: right;\n",
       "    }\n",
       "</style>\n",
       "<table border=\"1\" class=\"dataframe\">\n",
       "  <thead>\n",
       "    <tr>\n",
       "      <th></th>\n",
       "      <th colspan=\"2\" halign=\"left\">debt</th>\n",
       "      <th>ratio</th>\n",
       "    </tr>\n",
       "    <tr>\n",
       "      <th></th>\n",
       "      <th>count</th>\n",
       "      <th>sum</th>\n",
       "      <th></th>\n",
       "    </tr>\n",
       "    <tr>\n",
       "      <th>purpose_category</th>\n",
       "      <th></th>\n",
       "      <th></th>\n",
       "      <th></th>\n",
       "    </tr>\n",
       "  </thead>\n",
       "  <tbody>\n",
       "    <tr>\n",
       "      <th>операции с автомобилем</th>\n",
       "      <td>4279</td>\n",
       "      <td>400</td>\n",
       "      <td>9.347978</td>\n",
       "    </tr>\n",
       "    <tr>\n",
       "      <th>операции с недвижимостью</th>\n",
       "      <td>10751</td>\n",
       "      <td>780</td>\n",
       "      <td>7.255139</td>\n",
       "    </tr>\n",
       "    <tr>\n",
       "      <th>получение образования</th>\n",
       "      <td>3988</td>\n",
       "      <td>369</td>\n",
       "      <td>9.252758</td>\n",
       "    </tr>\n",
       "    <tr>\n",
       "      <th>проведение свадьбы</th>\n",
       "      <td>2313</td>\n",
       "      <td>183</td>\n",
       "      <td>7.911803</td>\n",
       "    </tr>\n",
       "  </tbody>\n",
       "</table>\n",
       "</div>"
      ],
      "text/plain": [
       "                           debt          ratio\n",
       "                          count  sum          \n",
       "purpose_category                              \n",
       "операции с автомобилем     4279  400  9.347978\n",
       "операции с недвижимостью  10751  780  7.255139\n",
       "получение образования      3988  369  9.252758\n",
       "проведение свадьбы         2313  183  7.911803"
      ]
     },
     "metadata": {},
     "output_type": "display_data"
    },
    {
     "data": {
      "image/png": "[encoded data removed]",
      "text/plain": [
       "<Figure size 432x288 with 1 Axes>"
      ]
     },
     "metadata": {
      "needs_background": "light"
     },
     "output_type": "display_data"
    }
   ],
   "source": [
    "# На этот раз воспользуемся изученной функцией agg, ее еще не было в этом проекте\n",
    "purpose_vs_debt = data.groupby('purpose_category').agg({'debt' : ['count', 'sum']})\n",
    "purpose_vs_debt['ratio'] = purpose_vs_debt['debt']['sum'] / purpose_vs_debt['debt']['count'] * 100\n",
    "display(purpose_vs_debt)\n",
    "\n",
    "purpose_vs_debt = purpose_vs_debt.sort_values(by='ratio')\n",
    "\n",
    "sns = seaborn.barplot(y=purpose_vs_debt.index.to_list(), x=purpose_vs_debt['ratio'])\n",
    "plt.xlabel('Цель кредита')\n",
    "plt.ylabel('% невозврата в срок')\n",
    "plt.show(sns)\n"
   ]
  },
  {
   "cell_type": "markdown",
   "id": "62f70c63",
   "metadata": {
    "deletable": false,
    "id": "b4bb2ce6"
   },
   "source": [
    "**Вывод:** \n",
    "На диаграмме видим, что существует взаимосвязь между целями кредита и количеством просрочек. С точки зрения банка, наименьший риск составляют ипотечные займы. По идее, такие кредиты банк должен выдавать наиболее охотно. Рекламный бюджет по этой категории преобладал бы перед остальными категориями. Наиболее рискованные цели займа - это операции связанные с автомобилями. Есть смысл проверять таких заемщиков более тщательно, чтобы минимизировать риск просрочки."
   ]
  },
  {
   "cell_type": "markdown",
   "id": "1d743441",
   "metadata": {
    "deletable": false,
    "editable": false,
    "id": "09c3ac4c"
   },
   "source": [
    "#### 3.5 Приведите возможные причины появления пропусков в исходных данных."
   ]
  },
  {
   "cell_type": "markdown",
   "id": "35d1b93d",
   "metadata": {
    "deletable": false,
    "id": "9da2ceda"
   },
   "source": [
    "*Ответ:* \n",
    "На мой взгляд, в нашем случае, ошибки и пропуски в данных - это техническая проблема. Даже если ошибка идет от человека, разработчики могут настроить формы, заполняемые сотрудниками банка, чтобы не пропускать неправильно заполненные поля, таким образом пресекая проникновения человеческого фактора в сводки данных. Заглавные буквы в образовании можно было бы преобразовать в строчные, для целей кредита сделать выпадающий список, подсвечивать незаполненные поля, чтобы избежать NaN значений в выгрузке.\n",
    "\n",
    "В противном случае, все эти недочеты валяться на аналитика и замедляют его работу. Тут есть повод поговорить с разработчиками, чтобы это исправить. Конечно, у разработчиков свои приоритеты, и такая просьба может показаться им неважной и ненужной, но попросить поставить эту задачу в один из следующих бэклогов стоит."
   ]
  },
  {
   "cell_type": "markdown",
   "id": "8cf52e3f",
   "metadata": {
    "deletable": false,
    "editable": false,
    "id": "7b0487d6"
   },
   "source": [
    "#### 3.6 Объясните, почему заполнить пропуски медианным значением — лучшее решение для количественных переменных."
   ]
  },
  {
   "cell_type": "markdown",
   "id": "fbf3bfde",
   "metadata": {
    "deletable": false,
    "id": "7ecf2b8e"
   },
   "source": [
    "*Ответ:* \n",
    "Такой подход избавляет от необходимости работать с резкими отклонениями значений (артефактами). Например, в колонке дохода могут быть отдельные личности, - единичные случаи, со слишком высоким доходом, которые задерут среднее арифметическое вверх, что ляжет в основу неверного представления и ошибок в анализе. Медианное значение поможет избежать подобных проблем."
   ]
  },
  {
   "cell_type": "markdown",
   "id": "caffc172",
   "metadata": {
    "deletable": false,
    "editable": false,
    "id": "6db5255a"
   },
   "source": [
    "### Шаг 4: общий вывод."
   ]
  },
  {
   "cell_type": "markdown",
   "id": "385be94e",
   "metadata": {
    "deletable": false,
    "id": "bad65432"
   },
   "source": [
    "Проведя данное исследование мы выясняли ряд важных моментов.\n",
    "\n",
    "Предоставленные данные содержали ошибки выгрузки, и нужно указать на это разработчикам систем обработки кредитных заявок. Регламентирование этой административной линии  исправит в будущем пропущенные значения в данных, такие аномалии, как отрицательный стаж, и неявные дубликаты категорий, указанные в разном регистре. Это поможет более слаженной работе между разработчиками, аналитиками, отделом маркетинга и операционными сотрудниками.\n",
    "\n",
    "При непосредственном анализе предоставленных данных были выявлены определенные взаимосвязи между характеристиками заемщикам и его способностью возврата кредита в срок.\n",
    "\n",
    "Наименьший процент просрочки выплаты кредитов наблюдается у кредиторов без детей, либо в случае, когда в семье три ребенка. Семьи с один, двумя и четырьмя детьми статистически имеют более высокий процент просрочки выплат.\n",
    "\n",
    "Было выяснено, что семейное положение также влияет на своевременный возврат кредитного долга. Заемщики, имеющие статус вдовца/вдовы, имеют наибольшую вероятность своевременных кредитных платежей. По статистике, у таких кредиторов - 6.5% просрочек. На втором месте – заемщики, находящиеся в разводе - 7% просрочек. На третьем месте заемщики имеющие официальные отношения - 7.5% просрочек. Оставшиеся две категории (гражданский брак и отсутствие отношений) имеют больший отрыв по процентам от первых трех категорий и составляют 9.3% и 9.7% соответственно. Эти две последние категории представляют наибольший риск для банк в плане возврата кредита.\n",
    "\n",
    "Если разделить заемщиков на категории по уровню дохода, то самыми надежными оказались клиенты категории D (доход от 30 000 до 50 000 р) - 6.5% просрочек, и категории B (доход от 200 000 до 1 000 000 р) - 7.5% просрочек по выплатам. Самыми ненадежными, ожидаемо, оказались клиенты с доходом ниже 30 000 р.\n",
    "\n",
    "Влияние цели кредита на просрочку по выплате распределилось следующим образом: самыми надежными оказались ипотечные займы - 7.3% просрочки и кредиты на свадьбу - 7.9%. Кредиты на образование и операции с автомобилем имеют в среднем 9.3% просрочек. Эти цели кредитов являются более рискованными для банка. Их рекомендуется выдавать под более высокий процент.\n",
    "\n",
    "В целом, при оценке рисков возврата кредитов можно проследить взаимосвязь как с семейным положением и количеством детей в семье, так и с целями кредита и уровнем дохода потенциального заемщика. Но эти взаимосвязи не линейные (риск просрочки не растет прямо пропорционально или обратно пропорционально увеличению дохода, кол-ву детей и т.д.). На основе этих данные нельзя вывести какую-то общую алгебраическую формулу. Поэтому, для оценки потенциальных заемщиков я бы рекомендовал использовать скоринговую систему, где разным характеристикам клиентов было бы присвоено различное количество очков, и потом подсчитывалась бы общая сумма риска невозврата кредита."
   ]
  }
 ],
 "metadata": {
  "ExecuteTimeLog": [
   {
    "duration": 51,
    "start_time": "2022-09-28T19:14:54.176Z"
   },
   {
    "duration": 513,
    "start_time": "2022-09-28T19:15:39.657Z"
   },
   {
    "duration": 24,
    "start_time": "2022-09-28T19:15:40.172Z"
   },
   {
    "duration": 15,
    "start_time": "2022-09-28T19:15:40.198Z"
   },
   {
    "duration": 10,
    "start_time": "2022-09-28T19:15:40.216Z"
   },
   {
    "duration": 34,
    "start_time": "2022-09-28T19:15:40.228Z"
   },
   {
    "duration": 4,
    "start_time": "2022-09-28T19:15:40.264Z"
   },
   {
    "duration": 11,
    "start_time": "2022-09-28T19:15:40.296Z"
   },
   {
    "duration": 6,
    "start_time": "2022-09-28T19:15:40.309Z"
   },
   {
    "duration": 9,
    "start_time": "2022-09-28T19:15:40.317Z"
   },
   {
    "duration": 6,
    "start_time": "2022-09-28T19:15:40.332Z"
   },
   {
    "duration": 72,
    "start_time": "2022-09-28T19:15:40.340Z"
   },
   {
    "duration": 9,
    "start_time": "2022-09-28T19:15:40.414Z"
   },
   {
    "duration": 9,
    "start_time": "2022-09-28T19:15:40.425Z"
   },
   {
    "duration": 14,
    "start_time": "2022-09-28T19:15:40.435Z"
   },
   {
    "duration": 28,
    "start_time": "2022-09-28T19:15:40.451Z"
   },
   {
    "duration": 30,
    "start_time": "2022-09-28T19:15:40.481Z"
   },
   {
    "duration": 4,
    "start_time": "2022-09-28T19:15:40.512Z"
   },
   {
    "duration": 14,
    "start_time": "2022-09-28T19:15:40.518Z"
   },
   {
    "duration": 10,
    "start_time": "2022-09-28T19:15:40.534Z"
   },
   {
    "duration": 8,
    "start_time": "2022-09-28T19:15:40.545Z"
   },
   {
    "duration": 25,
    "start_time": "2022-09-28T19:15:40.554Z"
   },
   {
    "duration": 31,
    "start_time": "2022-09-28T19:15:40.581Z"
   },
   {
    "duration": 2,
    "start_time": "2022-09-28T19:15:40.614Z"
   },
   {
    "duration": 6,
    "start_time": "2022-09-28T19:15:40.617Z"
   },
   {
    "duration": 4,
    "start_time": "2022-09-28T19:15:40.625Z"
   },
   {
    "duration": 6,
    "start_time": "2022-09-28T19:16:12.753Z"
   },
   {
    "duration": 9,
    "start_time": "2022-09-28T19:17:39.527Z"
   },
   {
    "duration": 7,
    "start_time": "2022-09-28T19:19:07.999Z"
   },
   {
    "duration": 9,
    "start_time": "2022-09-28T19:20:31.033Z"
   },
   {
    "duration": 6,
    "start_time": "2022-09-28T19:21:41.491Z"
   },
   {
    "duration": 8,
    "start_time": "2022-09-28T19:21:51.270Z"
   },
   {
    "duration": 72,
    "start_time": "2022-09-28T19:22:48.922Z"
   },
   {
    "duration": 8,
    "start_time": "2022-09-28T19:22:57.219Z"
   },
   {
    "duration": 8,
    "start_time": "2022-09-28T19:23:24.020Z"
   },
   {
    "duration": 9,
    "start_time": "2022-09-28T19:23:48.675Z"
   },
   {
    "duration": 7,
    "start_time": "2022-09-28T19:23:58.938Z"
   },
   {
    "duration": 10,
    "start_time": "2022-09-28T19:24:13.209Z"
   },
   {
    "duration": 11,
    "start_time": "2022-09-28T19:24:22.266Z"
   },
   {
    "duration": 11,
    "start_time": "2022-09-28T19:24:34.987Z"
   },
   {
    "duration": 4,
    "start_time": "2022-09-28T19:25:39.388Z"
   },
   {
    "duration": 13,
    "start_time": "2022-09-28T19:25:47.311Z"
   },
   {
    "duration": 9,
    "start_time": "2022-09-28T19:27:49.906Z"
   },
   {
    "duration": 6,
    "start_time": "2022-09-28T19:27:59.668Z"
   },
   {
    "duration": 8,
    "start_time": "2022-09-28T19:28:46.557Z"
   },
   {
    "duration": 9,
    "start_time": "2022-09-28T19:28:59.172Z"
   },
   {
    "duration": 9,
    "start_time": "2022-09-28T19:29:06.060Z"
   },
   {
    "duration": 9,
    "start_time": "2022-09-28T19:29:14.460Z"
   },
   {
    "duration": 7,
    "start_time": "2022-09-28T19:29:46.468Z"
   },
   {
    "duration": 32,
    "start_time": "2022-09-28T19:30:23.924Z"
   },
   {
    "duration": 9,
    "start_time": "2022-09-28T19:30:33.286Z"
   },
   {
    "duration": 12,
    "start_time": "2022-09-28T19:31:42.975Z"
   },
   {
    "duration": 14,
    "start_time": "2022-09-28T19:31:58.645Z"
   },
   {
    "duration": 15,
    "start_time": "2022-09-28T19:32:18.621Z"
   },
   {
    "duration": 9,
    "start_time": "2022-09-28T19:33:15.943Z"
   },
   {
    "duration": 8,
    "start_time": "2022-09-28T19:33:26.245Z"
   },
   {
    "duration": 8,
    "start_time": "2022-09-28T19:33:37.629Z"
   },
   {
    "duration": 10,
    "start_time": "2022-09-28T19:33:44.157Z"
   },
   {
    "duration": 14,
    "start_time": "2022-09-28T19:34:06.717Z"
   },
   {
    "duration": 11,
    "start_time": "2022-09-28T19:34:19.991Z"
   },
   {
    "duration": 10,
    "start_time": "2022-09-28T19:36:11.359Z"
   },
   {
    "duration": 11,
    "start_time": "2022-09-28T19:39:14.376Z"
   },
   {
    "duration": 11,
    "start_time": "2022-09-28T19:39:23.720Z"
   },
   {
    "duration": 8,
    "start_time": "2022-09-28T19:39:31.615Z"
   },
   {
    "duration": 8,
    "start_time": "2022-09-28T19:40:40.280Z"
   },
   {
    "duration": 12,
    "start_time": "2022-09-28T19:44:04.915Z"
   },
   {
    "duration": 1089,
    "start_time": "2022-09-28T19:44:20.417Z"
   },
   {
    "duration": 112,
    "start_time": "2022-09-28T19:44:39.737Z"
   },
   {
    "duration": 112,
    "start_time": "2022-09-28T19:45:27.946Z"
   },
   {
    "duration": 155,
    "start_time": "2022-09-28T19:52:10.293Z"
   },
   {
    "duration": 120,
    "start_time": "2022-09-28T19:52:24.629Z"
   },
   {
    "duration": 134,
    "start_time": "2022-09-28T19:53:51.423Z"
   },
   {
    "duration": 135,
    "start_time": "2022-09-28T19:54:02.389Z"
   },
   {
    "duration": 190,
    "start_time": "2022-09-28T19:54:20.567Z"
   },
   {
    "duration": 114,
    "start_time": "2022-09-28T19:54:52.942Z"
   },
   {
    "duration": 117,
    "start_time": "2022-09-28T19:57:50.551Z"
   },
   {
    "duration": 128,
    "start_time": "2022-09-28T19:58:13.958Z"
   },
   {
    "duration": 126,
    "start_time": "2022-09-28T19:59:08.193Z"
   },
   {
    "duration": 127,
    "start_time": "2022-09-28T20:00:03.775Z"
   },
   {
    "duration": 135,
    "start_time": "2022-09-28T20:00:29.197Z"
   },
   {
    "duration": 115,
    "start_time": "2022-09-28T20:01:18.904Z"
   },
   {
    "duration": 18,
    "start_time": "2022-09-28T20:02:25.793Z"
   },
   {
    "duration": 129,
    "start_time": "2022-09-28T20:02:35.182Z"
   },
   {
    "duration": 131,
    "start_time": "2022-09-28T20:03:04.386Z"
   },
   {
    "duration": 134,
    "start_time": "2022-09-28T20:04:24.489Z"
   },
   {
    "duration": 213,
    "start_time": "2022-09-28T20:04:47.566Z"
   },
   {
    "duration": 132,
    "start_time": "2022-09-28T20:05:28.217Z"
   },
   {
    "duration": 124,
    "start_time": "2022-09-28T20:20:05.203Z"
   },
   {
    "duration": 717,
    "start_time": "2022-09-29T19:32:28.391Z"
   },
   {
    "duration": 23,
    "start_time": "2022-09-29T19:32:29.110Z"
   },
   {
    "duration": 19,
    "start_time": "2022-09-29T19:32:29.135Z"
   },
   {
    "duration": 13,
    "start_time": "2022-09-29T19:32:29.156Z"
   },
   {
    "duration": 46,
    "start_time": "2022-09-29T19:32:29.180Z"
   },
   {
    "duration": 3,
    "start_time": "2022-09-29T19:32:29.228Z"
   },
   {
    "duration": 11,
    "start_time": "2022-09-29T19:32:29.232Z"
   },
   {
    "duration": 5,
    "start_time": "2022-09-29T19:32:29.246Z"
   },
   {
    "duration": 10,
    "start_time": "2022-09-29T19:32:29.252Z"
   },
   {
    "duration": 12,
    "start_time": "2022-09-29T19:32:29.278Z"
   },
   {
    "duration": 49,
    "start_time": "2022-09-29T19:32:29.292Z"
   },
   {
    "duration": 8,
    "start_time": "2022-09-29T19:32:29.343Z"
   },
   {
    "duration": 9,
    "start_time": "2022-09-29T19:32:29.352Z"
   },
   {
    "duration": 17,
    "start_time": "2022-09-29T19:32:29.362Z"
   },
   {
    "duration": 32,
    "start_time": "2022-09-29T19:32:29.381Z"
   },
   {
    "duration": 14,
    "start_time": "2022-09-29T19:32:29.415Z"
   },
   {
    "duration": 4,
    "start_time": "2022-09-29T19:32:29.430Z"
   },
   {
    "duration": 19,
    "start_time": "2022-09-29T19:32:29.435Z"
   },
   {
    "duration": 11,
    "start_time": "2022-09-29T19:32:29.456Z"
   },
   {
    "duration": 18,
    "start_time": "2022-09-29T19:32:29.468Z"
   },
   {
    "duration": 8,
    "start_time": "2022-09-29T19:32:29.490Z"
   },
   {
    "duration": 1015,
    "start_time": "2022-09-29T19:32:29.499Z"
   },
   {
    "duration": 3,
    "start_time": "2022-09-29T19:32:30.516Z"
   },
   {
    "duration": 18,
    "start_time": "2022-09-29T19:32:30.520Z"
   },
   {
    "duration": 36,
    "start_time": "2022-09-29T19:32:30.539Z"
   },
   {
    "duration": 6,
    "start_time": "2022-09-29T19:32:47.746Z"
   },
   {
    "duration": 107,
    "start_time": "2022-09-29T19:34:14.653Z"
   },
   {
    "duration": 6,
    "start_time": "2022-09-29T19:34:33.347Z"
   },
   {
    "duration": 9,
    "start_time": "2022-09-29T19:34:44.286Z"
   },
   {
    "duration": 6,
    "start_time": "2022-09-29T19:34:49.903Z"
   },
   {
    "duration": 13,
    "start_time": "2022-09-29T19:34:55.538Z"
   },
   {
    "duration": 14,
    "start_time": "2022-09-29T19:35:27.738Z"
   },
   {
    "duration": 17,
    "start_time": "2022-09-29T19:37:47.465Z"
   },
   {
    "duration": 25,
    "start_time": "2022-09-29T19:37:56.559Z"
   },
   {
    "duration": 12,
    "start_time": "2022-09-29T19:38:04.663Z"
   },
   {
    "duration": 17,
    "start_time": "2022-09-29T19:39:26.635Z"
   },
   {
    "duration": 19,
    "start_time": "2022-09-29T19:42:23.563Z"
   },
   {
    "duration": 14,
    "start_time": "2022-09-29T19:43:21.562Z"
   },
   {
    "duration": 13,
    "start_time": "2022-09-29T19:44:29.714Z"
   },
   {
    "duration": 30,
    "start_time": "2022-09-29T19:47:47.014Z"
   },
   {
    "duration": 30,
    "start_time": "2022-09-29T19:48:26.772Z"
   },
   {
    "duration": 27,
    "start_time": "2022-09-29T19:48:45.506Z"
   },
   {
    "duration": 24,
    "start_time": "2022-09-29T19:49:22.314Z"
   },
   {
    "duration": 21,
    "start_time": "2022-09-29T19:50:45.292Z"
   },
   {
    "duration": 129,
    "start_time": "2022-09-29T19:52:07.113Z"
   },
   {
    "duration": 133,
    "start_time": "2022-09-29T19:52:35.826Z"
   },
   {
    "duration": 128,
    "start_time": "2022-09-29T19:52:58.292Z"
   },
   {
    "duration": 123,
    "start_time": "2022-09-29T19:54:17.310Z"
   },
   {
    "duration": 5,
    "start_time": "2022-09-29T20:36:17.609Z"
   },
   {
    "duration": 6,
    "start_time": "2022-09-29T20:36:36.762Z"
   },
   {
    "duration": 7,
    "start_time": "2022-09-29T20:36:46.901Z"
   },
   {
    "duration": 10,
    "start_time": "2022-09-29T20:37:03.890Z"
   },
   {
    "duration": 9,
    "start_time": "2022-09-29T20:37:18.769Z"
   },
   {
    "duration": 11,
    "start_time": "2022-09-29T20:38:33.665Z"
   },
   {
    "duration": 46,
    "start_time": "2022-09-30T10:19:51.869Z"
   },
   {
    "duration": 775,
    "start_time": "2022-09-30T10:19:55.946Z"
   },
   {
    "duration": 21,
    "start_time": "2022-09-30T10:19:56.723Z"
   },
   {
    "duration": 15,
    "start_time": "2022-09-30T10:19:56.745Z"
   },
   {
    "duration": 9,
    "start_time": "2022-09-30T10:19:56.762Z"
   },
   {
    "duration": 35,
    "start_time": "2022-09-30T10:19:56.773Z"
   },
   {
    "duration": 4,
    "start_time": "2022-09-30T10:19:56.809Z"
   },
   {
    "duration": 26,
    "start_time": "2022-09-30T10:19:56.815Z"
   },
   {
    "duration": 4,
    "start_time": "2022-09-30T10:19:56.843Z"
   },
   {
    "duration": 9,
    "start_time": "2022-09-30T10:19:56.849Z"
   },
   {
    "duration": 4,
    "start_time": "2022-09-30T10:19:56.860Z"
   },
   {
    "duration": 47,
    "start_time": "2022-09-30T10:19:56.865Z"
   },
   {
    "duration": 20,
    "start_time": "2022-09-30T10:19:56.914Z"
   },
   {
    "duration": 3,
    "start_time": "2022-09-30T10:19:56.935Z"
   },
   {
    "duration": 13,
    "start_time": "2022-09-30T10:19:56.939Z"
   },
   {
    "duration": 18,
    "start_time": "2022-09-30T10:19:56.954Z"
   },
   {
    "duration": 16,
    "start_time": "2022-09-30T10:19:56.973Z"
   },
   {
    "duration": 4,
    "start_time": "2022-09-30T10:19:56.991Z"
   },
   {
    "duration": 36,
    "start_time": "2022-09-30T10:19:56.997Z"
   },
   {
    "duration": 7,
    "start_time": "2022-09-30T10:19:57.035Z"
   },
   {
    "duration": 6,
    "start_time": "2022-09-30T10:19:57.043Z"
   },
   {
    "duration": 16,
    "start_time": "2022-09-30T10:19:57.050Z"
   },
   {
    "duration": 1037,
    "start_time": "2022-09-30T10:19:57.067Z"
   },
   {
    "duration": 159,
    "start_time": "2022-09-30T10:19:58.106Z"
   },
   {
    "duration": 87,
    "start_time": "2022-09-30T10:19:58.267Z"
   },
   {
    "duration": 0,
    "start_time": "2022-09-30T10:19:58.356Z"
   },
   {
    "duration": 107,
    "start_time": "2022-09-30T10:23:17.356Z"
   },
   {
    "duration": 22,
    "start_time": "2022-09-30T10:23:46.605Z"
   },
   {
    "duration": 452,
    "start_time": "2022-09-30T10:24:04.741Z"
   },
   {
    "duration": 118,
    "start_time": "2022-09-30T10:25:01.389Z"
   },
   {
    "duration": 23,
    "start_time": "2022-09-30T10:25:08.625Z"
   },
   {
    "duration": 22,
    "start_time": "2022-09-30T10:25:17.166Z"
   },
   {
    "duration": 21,
    "start_time": "2022-09-30T10:25:28.891Z"
   },
   {
    "duration": 22,
    "start_time": "2022-09-30T10:25:37.355Z"
   },
   {
    "duration": 76,
    "start_time": "2022-09-30T10:25:44.407Z"
   },
   {
    "duration": 22,
    "start_time": "2022-09-30T10:26:07.340Z"
   },
   {
    "duration": 28,
    "start_time": "2022-09-30T10:26:16.369Z"
   },
   {
    "duration": 16,
    "start_time": "2022-09-30T10:27:24.965Z"
   },
   {
    "duration": 21,
    "start_time": "2022-09-30T10:27:42.153Z"
   },
   {
    "duration": 16,
    "start_time": "2022-09-30T10:27:52.800Z"
   },
   {
    "duration": 14,
    "start_time": "2022-09-30T10:28:44.558Z"
   },
   {
    "duration": 20,
    "start_time": "2022-09-30T10:28:56.178Z"
   },
   {
    "duration": 15,
    "start_time": "2022-09-30T10:29:04.802Z"
   },
   {
    "duration": 17,
    "start_time": "2022-09-30T10:29:11.710Z"
   },
   {
    "duration": 5,
    "start_time": "2022-09-30T10:33:10.392Z"
   },
   {
    "duration": 6,
    "start_time": "2022-09-30T10:33:30.525Z"
   },
   {
    "duration": 7,
    "start_time": "2022-09-30T10:33:39.756Z"
   },
   {
    "duration": 4,
    "start_time": "2022-09-30T10:34:53.196Z"
   },
   {
    "duration": 18,
    "start_time": "2022-09-30T10:35:04.817Z"
   },
   {
    "duration": 19,
    "start_time": "2022-09-30T10:39:47.740Z"
   },
   {
    "duration": 189,
    "start_time": "2022-09-30T10:42:23.610Z"
   },
   {
    "duration": 181,
    "start_time": "2022-09-30T10:43:00.806Z"
   },
   {
    "duration": 290,
    "start_time": "2022-09-30T10:43:24.519Z"
   },
   {
    "duration": 192,
    "start_time": "2022-09-30T10:43:37.298Z"
   },
   {
    "duration": 57,
    "start_time": "2022-09-30T10:45:27.299Z"
   },
   {
    "duration": 22,
    "start_time": "2022-09-30T10:46:09.937Z"
   },
   {
    "duration": 22,
    "start_time": "2022-09-30T10:46:21.305Z"
   },
   {
    "duration": 19,
    "start_time": "2022-09-30T10:46:27.706Z"
   },
   {
    "duration": 21,
    "start_time": "2022-09-30T10:47:19.035Z"
   },
   {
    "duration": 19,
    "start_time": "2022-09-30T10:53:11.462Z"
   },
   {
    "duration": 23,
    "start_time": "2022-09-30T10:53:13.813Z"
   },
   {
    "duration": 21,
    "start_time": "2022-09-30T10:53:20.297Z"
   },
   {
    "duration": 20,
    "start_time": "2022-09-30T10:53:39.501Z"
   },
   {
    "duration": 5,
    "start_time": "2022-09-30T10:54:18.644Z"
   },
   {
    "duration": 6,
    "start_time": "2022-09-30T10:55:19.879Z"
   },
   {
    "duration": 7,
    "start_time": "2022-09-30T10:56:38.022Z"
   },
   {
    "duration": 8,
    "start_time": "2022-09-30T10:56:49.661Z"
   },
   {
    "duration": 12,
    "start_time": "2022-09-30T10:57:00.542Z"
   },
   {
    "duration": 12,
    "start_time": "2022-09-30T10:57:06.693Z"
   },
   {
    "duration": 7,
    "start_time": "2022-09-30T10:57:14.340Z"
   },
   {
    "duration": 128,
    "start_time": "2022-09-30T10:58:04.765Z"
   },
   {
    "duration": 168,
    "start_time": "2022-09-30T10:58:36.316Z"
   },
   {
    "duration": 123,
    "start_time": "2022-09-30T10:58:49.262Z"
   },
   {
    "duration": 137,
    "start_time": "2022-09-30T11:00:36.398Z"
   },
   {
    "duration": 123,
    "start_time": "2022-09-30T11:01:16.452Z"
   },
   {
    "duration": 179,
    "start_time": "2022-09-30T11:02:16.960Z"
   },
   {
    "duration": 114,
    "start_time": "2022-09-30T11:02:34.656Z"
   },
   {
    "duration": 10,
    "start_time": "2022-09-30T12:00:33.901Z"
   },
   {
    "duration": 3,
    "start_time": "2022-09-30T12:07:13.140Z"
   },
   {
    "duration": 54,
    "start_time": "2022-09-30T12:07:22.696Z"
   },
   {
    "duration": 10,
    "start_time": "2022-09-30T12:07:41.124Z"
   },
   {
    "duration": 10,
    "start_time": "2022-09-30T12:08:18.628Z"
   },
   {
    "duration": 82,
    "start_time": "2022-09-30T12:08:26.700Z"
   },
   {
    "duration": 10,
    "start_time": "2022-09-30T12:08:31.636Z"
   },
   {
    "duration": 11,
    "start_time": "2022-09-30T12:10:25.626Z"
   },
   {
    "duration": 15,
    "start_time": "2022-09-30T12:10:39.285Z"
   },
   {
    "duration": 14,
    "start_time": "2022-09-30T12:10:50.040Z"
   },
   {
    "duration": 124,
    "start_time": "2022-09-30T12:12:24.692Z"
   },
   {
    "duration": 128,
    "start_time": "2022-09-30T12:13:14.551Z"
   },
   {
    "duration": 135,
    "start_time": "2022-09-30T12:14:11.350Z"
   },
   {
    "duration": 122,
    "start_time": "2022-09-30T12:16:43.611Z"
   },
   {
    "duration": 128,
    "start_time": "2022-09-30T12:16:56.928Z"
   },
   {
    "duration": 41,
    "start_time": "2022-09-30T19:10:33.241Z"
   },
   {
    "duration": 504,
    "start_time": "2022-09-30T19:10:39.309Z"
   },
   {
    "duration": 19,
    "start_time": "2022-09-30T19:10:39.815Z"
   },
   {
    "duration": 17,
    "start_time": "2022-09-30T19:10:39.835Z"
   },
   {
    "duration": 7,
    "start_time": "2022-09-30T19:10:39.854Z"
   },
   {
    "duration": 27,
    "start_time": "2022-09-30T19:10:39.862Z"
   },
   {
    "duration": 3,
    "start_time": "2022-09-30T19:10:39.891Z"
   },
   {
    "duration": 26,
    "start_time": "2022-09-30T19:10:39.895Z"
   },
   {
    "duration": 4,
    "start_time": "2022-09-30T19:10:39.923Z"
   },
   {
    "duration": 9,
    "start_time": "2022-09-30T19:10:39.929Z"
   },
   {
    "duration": 11,
    "start_time": "2022-09-30T19:10:39.941Z"
   },
   {
    "duration": 32,
    "start_time": "2022-09-30T19:10:39.953Z"
   },
   {
    "duration": 8,
    "start_time": "2022-09-30T19:10:39.986Z"
   },
   {
    "duration": 5,
    "start_time": "2022-09-30T19:10:39.995Z"
   },
   {
    "duration": 26,
    "start_time": "2022-09-30T19:10:40.001Z"
   },
   {
    "duration": 17,
    "start_time": "2022-09-30T19:10:40.029Z"
   },
   {
    "duration": 16,
    "start_time": "2022-09-30T19:10:40.047Z"
   },
   {
    "duration": 5,
    "start_time": "2022-09-30T19:10:40.064Z"
   },
   {
    "duration": 12,
    "start_time": "2022-09-30T19:10:40.070Z"
   },
   {
    "duration": 9,
    "start_time": "2022-09-30T19:10:40.083Z"
   },
   {
    "duration": 7,
    "start_time": "2022-09-30T19:10:40.093Z"
   },
   {
    "duration": 20,
    "start_time": "2022-09-30T19:10:40.102Z"
   },
   {
    "duration": 949,
    "start_time": "2022-09-30T19:10:40.124Z"
   },
   {
    "duration": 138,
    "start_time": "2022-09-30T19:10:41.075Z"
   },
   {
    "duration": 27,
    "start_time": "2022-09-30T19:10:41.215Z"
   },
   {
    "duration": 17,
    "start_time": "2022-09-30T19:10:41.244Z"
   },
   {
    "duration": 136,
    "start_time": "2022-09-30T19:10:41.262Z"
   },
   {
    "duration": 132,
    "start_time": "2022-09-30T19:10:41.400Z"
   },
   {
    "duration": 112,
    "start_time": "2022-09-30T19:22:00.792Z"
   },
   {
    "duration": 114,
    "start_time": "2022-09-30T19:24:25.241Z"
   },
   {
    "duration": 15,
    "start_time": "2022-09-30T19:57:27.421Z"
   },
   {
    "duration": 38,
    "start_time": "2022-09-30T19:57:36.292Z"
   },
   {
    "duration": 19,
    "start_time": "2022-09-30T19:58:07.576Z"
   },
   {
    "duration": 18,
    "start_time": "2022-09-30T19:58:19.351Z"
   },
   {
    "duration": 750,
    "start_time": "2022-10-01T06:05:26.316Z"
   },
   {
    "duration": 20,
    "start_time": "2022-10-01T06:05:27.069Z"
   },
   {
    "duration": 13,
    "start_time": "2022-10-01T06:05:27.090Z"
   },
   {
    "duration": 9,
    "start_time": "2022-10-01T06:05:27.105Z"
   },
   {
    "duration": 37,
    "start_time": "2022-10-01T06:05:27.116Z"
   },
   {
    "duration": 3,
    "start_time": "2022-10-01T06:05:27.155Z"
   },
   {
    "duration": 11,
    "start_time": "2022-10-01T06:05:27.159Z"
   },
   {
    "duration": 6,
    "start_time": "2022-10-01T06:05:27.172Z"
   },
   {
    "duration": 13,
    "start_time": "2022-10-01T06:05:27.179Z"
   },
   {
    "duration": 6,
    "start_time": "2022-10-01T06:05:27.193Z"
   },
   {
    "duration": 43,
    "start_time": "2022-10-01T06:05:27.200Z"
   },
   {
    "duration": 9,
    "start_time": "2022-10-01T06:05:27.245Z"
   },
   {
    "duration": 4,
    "start_time": "2022-10-01T06:05:27.256Z"
   },
   {
    "duration": 12,
    "start_time": "2022-10-01T06:05:27.262Z"
   },
   {
    "duration": 20,
    "start_time": "2022-10-01T06:05:27.275Z"
   },
   {
    "duration": 14,
    "start_time": "2022-10-01T06:05:27.297Z"
   },
   {
    "duration": 21,
    "start_time": "2022-10-01T06:05:27.312Z"
   },
   {
    "duration": 9,
    "start_time": "2022-10-01T06:05:27.335Z"
   },
   {
    "duration": 11,
    "start_time": "2022-10-01T06:05:27.346Z"
   },
   {
    "duration": 3,
    "start_time": "2022-10-01T06:05:27.358Z"
   },
   {
    "duration": 14,
    "start_time": "2022-10-01T06:05:27.363Z"
   },
   {
    "duration": 981,
    "start_time": "2022-10-01T06:05:27.378Z"
   },
   {
    "duration": 142,
    "start_time": "2022-10-01T06:05:28.361Z"
   },
   {
    "duration": 35,
    "start_time": "2022-10-01T06:05:28.505Z"
   },
   {
    "duration": 22,
    "start_time": "2022-10-01T06:05:28.542Z"
   },
   {
    "duration": 138,
    "start_time": "2022-10-01T06:05:28.566Z"
   },
   {
    "duration": 140,
    "start_time": "2022-10-01T06:05:28.705Z"
   },
   {
    "duration": 68,
    "start_time": "2022-10-01T06:12:02.662Z"
   },
   {
    "duration": 58,
    "start_time": "2022-10-01T06:14:55.116Z"
   },
   {
    "duration": 97,
    "start_time": "2022-10-01T18:58:05.925Z"
   },
   {
    "duration": 38,
    "start_time": "2022-10-01T19:38:55.461Z"
   },
   {
    "duration": 1224,
    "start_time": "2022-10-01T19:39:00.358Z"
   },
   {
    "duration": 124,
    "start_time": "2022-10-01T19:39:01.584Z"
   },
   {
    "duration": 18,
    "start_time": "2022-10-01T19:39:01.710Z"
   },
   {
    "duration": 56,
    "start_time": "2022-10-01T19:39:01.730Z"
   },
   {
    "duration": 19,
    "start_time": "2022-10-01T19:39:01.788Z"
   },
   {
    "duration": 43,
    "start_time": "2022-10-01T19:39:01.809Z"
   },
   {
    "duration": 3,
    "start_time": "2022-10-01T19:39:01.853Z"
   },
   {
    "duration": 28,
    "start_time": "2022-10-01T19:39:01.858Z"
   },
   {
    "duration": 27,
    "start_time": "2022-10-01T19:39:01.888Z"
   },
   {
    "duration": 24,
    "start_time": "2022-10-01T19:39:01.918Z"
   },
   {
    "duration": 14,
    "start_time": "2022-10-01T19:39:01.943Z"
   },
   {
    "duration": 52,
    "start_time": "2022-10-01T19:39:01.959Z"
   },
   {
    "duration": 13,
    "start_time": "2022-10-01T19:39:02.012Z"
   },
   {
    "duration": 9,
    "start_time": "2022-10-01T19:39:02.026Z"
   },
   {
    "duration": 29,
    "start_time": "2022-10-01T19:39:02.037Z"
   },
   {
    "duration": 23,
    "start_time": "2022-10-01T19:39:02.068Z"
   },
   {
    "duration": 36,
    "start_time": "2022-10-01T19:39:02.092Z"
   },
   {
    "duration": 19,
    "start_time": "2022-10-01T19:39:02.129Z"
   },
   {
    "duration": 37,
    "start_time": "2022-10-01T19:39:02.149Z"
   },
   {
    "duration": 25,
    "start_time": "2022-10-01T19:39:02.188Z"
   },
   {
    "duration": 23,
    "start_time": "2022-10-01T19:39:02.215Z"
   },
   {
    "duration": 42,
    "start_time": "2022-10-01T19:39:02.240Z"
   },
   {
    "duration": 142,
    "start_time": "2022-10-01T19:39:02.283Z"
   },
   {
    "duration": 66,
    "start_time": "2022-10-01T19:39:02.426Z"
   },
   {
    "duration": 0,
    "start_time": "2022-10-01T19:39:02.493Z"
   },
   {
    "duration": 0,
    "start_time": "2022-10-01T19:39:02.494Z"
   },
   {
    "duration": 0,
    "start_time": "2022-10-01T19:39:02.495Z"
   },
   {
    "duration": 0,
    "start_time": "2022-10-01T19:39:02.496Z"
   },
   {
    "duration": 0,
    "start_time": "2022-10-01T19:39:02.496Z"
   },
   {
    "duration": 0,
    "start_time": "2022-10-01T19:39:02.497Z"
   },
   {
    "duration": 15,
    "start_time": "2022-10-01T19:39:20.631Z"
   },
   {
    "duration": 17,
    "start_time": "2022-10-01T19:39:46.283Z"
   },
   {
    "duration": 15,
    "start_time": "2022-10-01T19:39:53.864Z"
   },
   {
    "duration": 16,
    "start_time": "2022-10-01T19:39:58.447Z"
   },
   {
    "duration": 15,
    "start_time": "2022-10-01T19:40:21.859Z"
   },
   {
    "duration": 15,
    "start_time": "2022-10-01T19:40:43.145Z"
   },
   {
    "duration": 18,
    "start_time": "2022-10-01T19:40:50.943Z"
   },
   {
    "duration": 10,
    "start_time": "2022-10-01T19:41:00.329Z"
   },
   {
    "duration": 15,
    "start_time": "2022-10-01T19:41:58.752Z"
   },
   {
    "duration": 16,
    "start_time": "2022-10-01T19:42:15.465Z"
   },
   {
    "duration": 15,
    "start_time": "2022-10-01T19:42:26.752Z"
   },
   {
    "duration": 15,
    "start_time": "2022-10-01T19:42:38.312Z"
   },
   {
    "duration": 21,
    "start_time": "2022-10-01T19:42:50.281Z"
   },
   {
    "duration": 134,
    "start_time": "2022-10-01T19:45:00.708Z"
   },
   {
    "duration": 116,
    "start_time": "2022-10-01T19:46:12.675Z"
   },
   {
    "duration": 7,
    "start_time": "2022-10-01T19:46:17.209Z"
   },
   {
    "duration": 59,
    "start_time": "2022-10-01T19:47:29.025Z"
   },
   {
    "duration": 34,
    "start_time": "2022-10-01T19:47:46.754Z"
   },
   {
    "duration": 34,
    "start_time": "2022-10-01T19:48:43.156Z"
   },
   {
    "duration": 7,
    "start_time": "2022-10-01T19:51:22.726Z"
   },
   {
    "duration": 26,
    "start_time": "2022-10-01T19:51:27.236Z"
   },
   {
    "duration": 122,
    "start_time": "2022-10-01T19:53:38.268Z"
   },
   {
    "duration": 180,
    "start_time": "2022-10-01T19:54:11.695Z"
   },
   {
    "duration": 19,
    "start_time": "2022-10-01T19:55:48.702Z"
   },
   {
    "duration": 29,
    "start_time": "2022-10-01T19:56:43.069Z"
   },
   {
    "duration": 106,
    "start_time": "2022-10-01T19:57:02.102Z"
   },
   {
    "duration": 22,
    "start_time": "2022-10-01T19:58:54.399Z"
   },
   {
    "duration": 28,
    "start_time": "2022-10-01T20:02:56.002Z"
   },
   {
    "duration": 104,
    "start_time": "2022-10-01T20:03:01.465Z"
   },
   {
    "duration": 1393,
    "start_time": "2022-10-02T07:36:11.395Z"
   },
   {
    "duration": 300,
    "start_time": "2022-10-02T07:36:12.790Z"
   },
   {
    "duration": 21,
    "start_time": "2022-10-02T07:36:13.092Z"
   },
   {
    "duration": 22,
    "start_time": "2022-10-02T07:36:13.116Z"
   },
   {
    "duration": 10,
    "start_time": "2022-10-02T07:36:13.140Z"
   },
   {
    "duration": 37,
    "start_time": "2022-10-02T07:36:13.152Z"
   },
   {
    "duration": 4,
    "start_time": "2022-10-02T07:36:13.190Z"
   },
   {
    "duration": 40,
    "start_time": "2022-10-02T07:36:13.195Z"
   },
   {
    "duration": 5,
    "start_time": "2022-10-02T07:36:13.237Z"
   },
   {
    "duration": 16,
    "start_time": "2022-10-02T07:36:13.244Z"
   },
   {
    "duration": 4,
    "start_time": "2022-10-02T07:36:13.262Z"
   },
   {
    "duration": 36,
    "start_time": "2022-10-02T07:36:13.268Z"
   },
   {
    "duration": 27,
    "start_time": "2022-10-02T07:36:13.306Z"
   },
   {
    "duration": 5,
    "start_time": "2022-10-02T07:36:13.334Z"
   },
   {
    "duration": 19,
    "start_time": "2022-10-02T07:36:13.340Z"
   },
   {
    "duration": 25,
    "start_time": "2022-10-02T07:36:13.361Z"
   },
   {
    "duration": 17,
    "start_time": "2022-10-02T07:36:13.388Z"
   },
   {
    "duration": 5,
    "start_time": "2022-10-02T07:36:13.406Z"
   },
   {
    "duration": 26,
    "start_time": "2022-10-02T07:36:13.412Z"
   },
   {
    "duration": 9,
    "start_time": "2022-10-02T07:36:13.440Z"
   },
   {
    "duration": 7,
    "start_time": "2022-10-02T07:36:13.450Z"
   },
   {
    "duration": 19,
    "start_time": "2022-10-02T07:36:13.458Z"
   },
   {
    "duration": 12,
    "start_time": "2022-10-02T07:36:13.479Z"
   },
   {
    "duration": 86,
    "start_time": "2022-10-02T07:36:13.492Z"
   },
   {
    "duration": 165,
    "start_time": "2022-10-02T07:36:13.580Z"
   },
   {
    "duration": 17,
    "start_time": "2022-10-02T07:36:13.747Z"
   },
   {
    "duration": 32,
    "start_time": "2022-10-02T07:36:13.766Z"
   },
   {
    "duration": 174,
    "start_time": "2022-10-02T07:36:13.801Z"
   },
   {
    "duration": 23,
    "start_time": "2022-10-02T07:36:13.977Z"
   },
   {
    "duration": 39,
    "start_time": "2022-10-02T07:36:14.002Z"
   },
   {
    "duration": 151,
    "start_time": "2022-10-02T07:36:14.043Z"
   },
   {
    "duration": 37,
    "start_time": "2022-10-02T07:36:14.196Z"
   },
   {
    "duration": 158,
    "start_time": "2022-10-02T07:36:14.235Z"
   },
   {
    "duration": 1268,
    "start_time": "2022-10-02T10:31:19.535Z"
   },
   {
    "duration": 283,
    "start_time": "2022-10-02T10:31:20.805Z"
   },
   {
    "duration": 18,
    "start_time": "2022-10-02T10:31:21.090Z"
   },
   {
    "duration": 16,
    "start_time": "2022-10-02T10:31:21.110Z"
   },
   {
    "duration": 10,
    "start_time": "2022-10-02T10:31:21.129Z"
   },
   {
    "duration": 31,
    "start_time": "2022-10-02T10:31:21.141Z"
   },
   {
    "duration": 3,
    "start_time": "2022-10-02T10:31:21.173Z"
   },
   {
    "duration": 9,
    "start_time": "2022-10-02T10:31:21.178Z"
   },
   {
    "duration": 4,
    "start_time": "2022-10-02T10:31:21.188Z"
   },
   {
    "duration": 9,
    "start_time": "2022-10-02T10:31:21.193Z"
   },
   {
    "duration": 4,
    "start_time": "2022-10-02T10:31:21.203Z"
   },
   {
    "duration": 59,
    "start_time": "2022-10-02T10:31:21.208Z"
   },
   {
    "duration": 11,
    "start_time": "2022-10-02T10:31:21.268Z"
   },
   {
    "duration": 4,
    "start_time": "2022-10-02T10:31:21.282Z"
   },
   {
    "duration": 13,
    "start_time": "2022-10-02T10:31:21.287Z"
   },
   {
    "duration": 39,
    "start_time": "2022-10-02T10:31:21.301Z"
   },
   {
    "duration": 17,
    "start_time": "2022-10-02T10:31:21.342Z"
   },
   {
    "duration": 3,
    "start_time": "2022-10-02T10:31:21.361Z"
   },
   {
    "duration": 15,
    "start_time": "2022-10-02T10:31:21.365Z"
   },
   {
    "duration": 6,
    "start_time": "2022-10-02T10:31:21.381Z"
   },
   {
    "duration": 4,
    "start_time": "2022-10-02T10:31:21.389Z"
   },
   {
    "duration": 11,
    "start_time": "2022-10-02T10:31:21.394Z"
   },
   {
    "duration": 6,
    "start_time": "2022-10-02T10:31:21.407Z"
   },
   {
    "duration": 80,
    "start_time": "2022-10-02T10:31:21.415Z"
   },
   {
    "duration": 125,
    "start_time": "2022-10-02T10:31:21.496Z"
   },
   {
    "duration": 25,
    "start_time": "2022-10-02T10:31:21.623Z"
   },
   {
    "duration": 27,
    "start_time": "2022-10-02T10:31:21.650Z"
   },
   {
    "duration": 138,
    "start_time": "2022-10-02T10:31:21.679Z"
   },
   {
    "duration": 31,
    "start_time": "2022-10-02T10:31:21.819Z"
   },
   {
    "duration": 19,
    "start_time": "2022-10-02T10:31:21.852Z"
   },
   {
    "duration": 122,
    "start_time": "2022-10-02T10:31:21.872Z"
   },
   {
    "duration": 26,
    "start_time": "2022-10-02T10:31:21.995Z"
   },
   {
    "duration": 129,
    "start_time": "2022-10-02T10:31:22.022Z"
   }
  ],
  "colab": {
   "name": "dpp_template_part2.ipynb",
   "provenance": []
  },
  "kernelspec": {
   "display_name": "Python 3.7.3 64-bit",
   "language": "python",
   "name": "python3"
  },
  "language_info": {
   "codemirror_mode": {
    "name": "ipython",
    "version": 3
   },
   "file_extension": ".py",
   "mimetype": "text/x-python",
   "name": "python",
   "nbconvert_exporter": "python",
   "pygments_lexer": "ipython3",
   "version": "3.7.3"
  },
  "toc": {
   "base_numbering": 1,
   "nav_menu": {},
   "number_sections": true,
   "sideBar": true,
   "skip_h1_title": true,
   "title_cell": "Table of Contents",
   "title_sidebar": "Contents",
   "toc_cell": false,
   "toc_position": {},
   "toc_section_display": true,
   "toc_window_display": false
  },
  "vscode": {
   "interpreter": {
    "hash": "fd69f43f58546b570e94fd7eba7b65e6bcc7a5bbc4eab0408017d18902915d69"
   }
  }
 },
 "nbformat": 4,
 "nbformat_minor": 5
}
